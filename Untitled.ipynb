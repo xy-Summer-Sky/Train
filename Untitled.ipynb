{
 "cells": [
  {
   "cell_type": "code",
   "execution_count": 1,
   "id": "7db51f13-f157-4cf0-837f-b2d762739698",
   "metadata": {},
   "outputs": [
    {
     "name": "stderr",
     "output_type": "stream",
     "text": [
      "/root/miniconda3/envs/train39/lib/python3.9/site-packages/tqdm/auto.py:21: TqdmWarning: IProgress not found. Please update jupyter and ipywidgets. See https://ipywidgets.readthedocs.io/en/stable/user_install.html\n",
      "  from .autonotebook import tqdm as notebook_tqdm\n",
      "Some weights of BertForQuestionAnswering were not initialized from the model checkpoint at ./bert-base-chinese and are newly initialized: ['qa_outputs.bias', 'qa_outputs.weight']\n",
      "You should probably TRAIN this model on a down-stream task to be able to use it for predictions and inference.\n"
     ]
    },
    {
     "name": "stdout",
     "output_type": "stream",
     "text": [
      "Answer: 未找到明确答案。\n"
     ]
    }
   ],
   "source": [
    "from transformers import BertTokenizer, BertForQuestionAnswering\n",
    "import torch\n",
    "\n",
    "# 加载模型和分词器\n",
    "tokenizer = BertTokenizer.from_pretrained('./bert-base-chinese')\n",
    "model = BertForQuestionAnswering.from_pretrained('./bert-base-chinese')\n",
    "\n",
    "# 确保问题和上下文被正确处理\n",
    "question = \"2022年中国联通在哪些方面实现了转型升级？\"\n",
    "context = \"根据年度报告，2022年中国联通在数字科技领域实现了显著的转型升级。\"\n",
    "\n",
    "# 编码并处理\n",
    "inputs = tokenizer(question, context, return_tensors='pt', truncation=True, padding=True, max_length=512)\n",
    "input_ids = inputs[\"input_ids\"].tolist()[0]\n",
    "\n",
    "# 获取答案\n",
    "output = model(**inputs)\n",
    "answer_start_scores, answer_end_scores = output.start_logits, output.end_logits\n",
    "answer_start = torch.argmax(answer_start_scores)\n",
    "answer_end = torch.argmax(answer_end_scores) + 1\n",
    "\n",
    "# 解码生成的答案\n",
    "if answer_end > answer_start:\n",
    "    answer = tokenizer.decode(input_ids[answer_start:answer_end])\n",
    "else:\n",
    "    answer = \"未找到明确答案。\"\n",
    "\n",
    "print(\"Answer:\", answer)\n"
   ]
  },
  {
   "cell_type": "code",
   "execution_count": 2,
   "id": "813213c6-afb7-4024-9e58-09caf5b60f26",
   "metadata": {},
   "outputs": [
    {
     "ename": "ModuleNotFoundError",
     "evalue": "No module named 'spacy'",
     "output_type": "error",
     "traceback": [
      "\u001b[0;31m---------------------------------------------------------------------------\u001b[0m",
      "\u001b[0;31mModuleNotFoundError\u001b[0m                       Traceback (most recent call last)",
      "Cell \u001b[0;32mIn[2], line 1\u001b[0m\n\u001b[0;32m----> 1\u001b[0m \u001b[38;5;28;01mimport\u001b[39;00m \u001b[38;5;21;01mspacy\u001b[39;00m\n\u001b[1;32m      2\u001b[0m \u001b[38;5;28;01mfrom\u001b[39;00m \u001b[38;5;21;01mtqdm\u001b[39;00m \u001b[38;5;28;01mimport\u001b[39;00m tqdm\n\u001b[1;32m      4\u001b[0m \u001b[38;5;66;03m# Load spaCy model\u001b[39;00m\n",
      "\u001b[0;31mModuleNotFoundError\u001b[0m: No module named 'spacy'"
     ]
    }
   ],
   "source": [
    "import spacy\n",
    "from tqdm import tqdm\n",
    "\n",
    "# Load spaCy model\n",
    "nlp = spacy.load('en_core_web_sm')\n",
    "\n",
    "def intent_based_split(text):\n",
    "    doc = nlp(text)\n",
    "    sentences = []\n",
    "    for sent in doc.sents:\n",
    "        sentences.append(sent.text)\n",
    "    return sentences\n",
    "\n",
    "# Example usage\n",
    "text = \"This is the first sentence. Here is another one. And the final sentence.\"\n",
    "split_text = intent_based_split(text)\n",
    "for sentence in split_text:\n",
    "    print(sentence)"
   ]
  },
  {
   "cell_type": "code",
   "execution_count": null,
   "id": "fd533d22-9a94-474d-823b-e0a0cad05808",
   "metadata": {},
   "outputs": [],
   "source": []
  }
 ],
 "metadata": {
  "kernelspec": {
   "display_name": "Python 3 (train39)",
   "language": "python",
   "name": "train39"
  },
  "language_info": {
   "codemirror_mode": {
    "name": "ipython",
    "version": 3
   },
   "file_extension": ".py",
   "mimetype": "text/x-python",
   "name": "python",
   "nbconvert_exporter": "python",
   "pygments_lexer": "ipython3",
   "version": "3.12.3"
  }
 },
 "nbformat": 4,
 "nbformat_minor": 5
}
