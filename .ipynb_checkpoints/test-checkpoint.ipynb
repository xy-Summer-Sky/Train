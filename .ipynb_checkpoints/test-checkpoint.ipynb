{
 "cells": [
  {
   "cell_type": "code",
   "execution_count": 1,
   "id": "3c566af6-4751-43eb-849b-d9a19a6620cc",
   "metadata": {},
   "outputs": [
    {
     "name": "stdout",
     "output_type": "stream",
     "text": [
      "Error reading CSV files: [Errno 2] No such file or directory: './A/A_question.csv'\n"
     ]
    }
   ],
   "source": [
    "import pandas as pd\n",
    "\n",
    "# Define file paths\n",
    "QUERY_DIR = './A/A_question.csv'\n",
    "SUB_DIR = './submit_example.csv'\n",
    "\n",
    "# Read CSV files with additional parameters\n",
    "try:\n",
    "    query = pd.read_csv(QUERY_DIR, dtype=str, na_values=['', 'NA'], encoding='utf-8')\n",
    "    sub = pd.read_csv(SUB_DIR, dtype=str, na_values=['', 'NA'], encoding='utf-8')\n",
    "    print(query.head(3))\n",
    "    print(sub.head(3))\n",
    "except Exception as e:\n",
    "    print(f\"Error reading CSV files: {e}\")"
   ]
  }
 ],
 "metadata": {
  "kernelspec": {
   "display_name": "train310",
   "language": "python",
   "name": "train310"
  },
  "language_info": {
   "codemirror_mode": {
    "name": "ipython",
    "version": 3
   },
   "file_extension": ".py",
   "mimetype": "text/x-python",
   "name": "python",
   "nbconvert_exporter": "python",
   "pygments_lexer": "ipython3",
   "version": "3.10.15"
  }
 },
 "nbformat": 4,
 "nbformat_minor": 5
}
