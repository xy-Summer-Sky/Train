{
 "cells": [
  {
   "cell_type": "code",
   "execution_count": 1,
   "id": "bbf892e5-1248-4dbc-9f8e-b09b0e53f3b3",
   "metadata": {},
   "outputs": [
    {
     "name": "stderr",
     "output_type": "stream",
     "text": [
      "/root/miniconda3/envs/train310/lib/python3.10/site-packages/tqdm/auto.py:21: TqdmWarning: IProgress not found. Please update jupyter and ipywidgets. See https://ipywidgets.readthedocs.io/en/stable/user_install.html\n",
      "  from .autonotebook import tqdm as notebook_tqdm\n",
      "/root/miniconda3/envs/train310/lib/python3.10/site-packages/transformers/configuration_utils.py:306: UserWarning: Passing `gradient_checkpointing` to a config initialization is deprecated and will be removed in v5 Transformers. Using `model.gradient_checkpointing_enable()` instead, or if you are using the `Trainer` API, pass `gradient_checkpointing=True` in your `TrainingArguments`.\n",
      "  warnings.warn(\n"
     ]
    },
    {
     "ename": "NameError",
     "evalue": "name 'segment_text' is not defined",
     "output_type": "error",
     "traceback": [
      "\u001b[0;31m---------------------------------------------------------------------------\u001b[0m",
      "\u001b[0;31mNameError\u001b[0m                                 Traceback (most recent call last)",
      "Cell \u001b[0;32mIn[1], line 44\u001b[0m\n\u001b[1;32m     42\u001b[0m segmented_docs \u001b[38;5;241m=\u001b[39m []\n\u001b[1;32m     43\u001b[0m \u001b[38;5;28;01mfor\u001b[39;00m doc \u001b[38;5;129;01min\u001b[39;00m documents:\n\u001b[0;32m---> 44\u001b[0m     segments \u001b[38;5;241m=\u001b[39m \u001b[43msegment_text\u001b[49m(doc\u001b[38;5;241m.\u001b[39mpage_content)\n\u001b[1;32m     45\u001b[0m     \u001b[38;5;28;01mfor\u001b[39;00m segment \u001b[38;5;129;01min\u001b[39;00m segments:\n\u001b[1;32m     46\u001b[0m         segmented_docs\u001b[38;5;241m.\u001b[39mappend({\u001b[38;5;124m\"\u001b[39m\u001b[38;5;124mpage_content\u001b[39m\u001b[38;5;124m\"\u001b[39m: segment, \u001b[38;5;124m\"\u001b[39m\u001b[38;5;124mmetadata\u001b[39m\u001b[38;5;124m\"\u001b[39m: doc\u001b[38;5;241m.\u001b[39mmetadata})\n",
      "\u001b[0;31mNameError\u001b[0m: name 'segment_text' is not defined"
     ]
    }
   ],
   "source": [
    "from langchain_community.document_loaders import TextLoader\n",
    "import torch\n",
    "from transformers import BertTokenizer, BertForTokenClassification\n",
    "import json\n",
    "\n",
    "# Load the BERT model and tokenizer\n",
    "model_path = './nlp_bert_document-segmentation_chinese-base'\n",
    "tokenizer = BertTokenizer.from_pretrained(model_path)\n",
    "model = BertForTokenClassification.from_pretrained(model_path)\n",
    "\n",
    "def segment_long_text(text, stride=256, max_length=512):\n",
    "    # Tokenize input\n",
    "    tokens = tokenizer.encode_plus(text, add_special_tokens=True, max_length=max_length, truncation=True)\n",
    "    input_ids = tokens.input_ids\n",
    "    \n",
    "    # Prepare overlapping windows for long texts\n",
    "    input_chunks = [input_ids[i:i + max_length] for i in range(0, len(input_ids), max_length - stride)]\n",
    "    \n",
    "    # Collect segments from each chunk\n",
    "    segments = []\n",
    "    for chunk in input_chunks:\n",
    "        inputs = {'input_ids': torch.tensor([chunk])}\n",
    "        outputs = model(**inputs)\n",
    "        predictions = torch.argmax(outputs.logits, dim=-1)\n",
    "        tokens = tokenizer.convert_ids_to_tokens(chunk)\n",
    "        current_segment = []\n",
    "        for token, prediction in zip(tokens, predictions[0]):\n",
    "            current_segment.append(token)\n",
    "            if prediction == 1 and len(current_segment) >= min_segment_length:\n",
    "                segments.append(''.join(current_segment))\n",
    "                current_segment = []\n",
    "        if current_segment:\n",
    "            segments.append(''.join(current_segment))\n",
    "    return segments\n",
    "\n",
    "\n",
    "# Load documents\n",
    "loader = TextLoader(\"AZ.txt\", encoding=\"utf-8\")\n",
    "documents = loader.load()\n",
    "\n",
    "# Segment documents using BERT model\n",
    "segmented_docs = []\n",
    "for doc in documents:\n",
    "    segments = segment_long_text(doc.page_content)\n",
    "    for segment in segments:\n",
    "        segmented_docs.append({\"page_content\": segment, \"metadata\": doc.metadata})\n",
    "\n",
    "# Save the segmented documents to a JSON file\n",
    "with open('segmented_docs.json', 'w', encoding='utf-8') as f:\n",
    "    json.dump(segmented_docs, f, ensure_ascii=False, indent=4)"
   ]
  }
 ],
 "metadata": {
  "kernelspec": {
   "display_name": "Python (310)",
   "language": "python",
   "name": "train310"
  },
  "language_info": {
   "codemirror_mode": {
    "name": "ipython",
    "version": 3
   },
   "file_extension": ".py",
   "mimetype": "text/x-python",
   "name": "python",
   "nbconvert_exporter": "python",
   "pygments_lexer": "ipython3",
   "version": "3.10.15"
  }
 },
 "nbformat": 4,
 "nbformat_minor": 5
}
