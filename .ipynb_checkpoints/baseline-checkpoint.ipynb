{
 "metadata": {
  "kernelspec": {
   "name": "python3",
   "display_name": "Python 3",
   "language": "python"
  },
  "language_info": {
   "name": "python",
   "version": "3.10.14",
   "mimetype": "text/x-python",
   "codemirror_mode": {
    "name": "ipython",
    "version": 3
   },
   "pygments_lexer": "ipython3",
   "nbconvert_exporter": "python",
   "file_extension": ".py"
  },
  "kaggle": {
   "accelerator": "gpu",
   "dataSources": [
    {
     "sourceId": 9501900,
     "sourceType": "datasetVersion",
     "datasetId": 5782812
    },
    {
     "sourceId": 9551539,
     "sourceType": "datasetVersion",
     "datasetId": 5819690
    },
    {
     "sourceId": 9568175,
     "sourceType": "datasetVersion",
     "datasetId": 5831812
    }
   ],
   "dockerImageVersionId": 30787,
   "isInternetEnabled": true,
   "language": "python",
   "sourceType": "notebook",
   "isGpuEnabled": true
  }
 },
 "nbformat_minor": 4,
 "nbformat": 4,
 "cells": [
  {
   "cell_type": "markdown",
   "source": "### 导包和变量设置",
   "metadata": {}
  },
  {
   "cell_type": "code",
   "source": [
    "!pip install -q langchain_community langchain_text_splitters langchain langchain_core sentence_transformers\n",
    "langchain 0.3.3 langchain_community 0.3.2 langchain_core 0.3.10 faiss-gpu-1.7.2 rank_bm25-0.2.2；weights=[0.4, 0.6]"
   ],
   "metadata": {
    "execution": {
     "iopub.status.busy": "2024-10-11T10:17:34.841263Z",
     "iopub.execute_input": "2024-10-11T10:17:34.841943Z",
     "iopub.status.idle": "2024-10-11T10:17:55.671027Z",
     "shell.execute_reply.started": "2024-10-11T10:17:34.841901Z",
     "shell.execute_reply": "2024-10-11T10:17:55.669836Z"
    },
    "trusted": true
   },
   "execution_count": 1,
   "outputs": [
    {
     "name": "stdout",
     "text": "\u001B[31mERROR: pip's dependency resolver does not currently take into account all the packages that are installed. This behaviour is the source of the following dependency conflicts.\ncudf 24.8.3 requires cubinlinker, which is not installed.\ncudf 24.8.3 requires cupy-cuda11x>=12.0.0, which is not installed.\ncudf 24.8.3 requires ptxcompiler, which is not installed.\ncuml 24.8.0 requires cupy-cuda11x>=12.0.0, which is not installed.\ndask-cudf 24.8.3 requires cupy-cuda11x>=12.0.0, which is not installed.\ncudf 24.8.3 requires cuda-python<12.0a0,>=11.7.1, but you have cuda-python 12.6.0 which is incompatible.\ndistributed 2024.7.1 requires dask==2024.7.1, but you have dask 2024.9.1 which is incompatible.\ngoogle-cloud-bigquery 2.34.4 requires packaging<22.0dev,>=14.3, but you have packaging 24.1 which is incompatible.\njupyterlab 4.2.5 requires jupyter-lsp>=2.0.0, but you have jupyter-lsp 1.5.1 which is incompatible.\njupyterlab-lsp 5.1.0 requires jupyter-lsp>=2.0.0, but you have jupyter-lsp 1.5.1 which is incompatible.\nkfp 2.5.0 requires google-cloud-storage<3,>=2.2.1, but you have google-cloud-storage 1.44.0 which is incompatible.\nkfp 2.5.0 requires requests-toolbelt<1,>=0.8.0, but you have requests-toolbelt 1.0.0 which is incompatible.\nlibpysal 4.9.2 requires shapely>=2.0.1, but you have shapely 1.8.5.post1 which is incompatible.\nrapids-dask-dependency 24.8.0a0 requires dask==2024.7.1, but you have dask 2024.9.1 which is incompatible.\nydata-profiling 4.10.0 requires scipy<1.14,>=1.4.1, but you have scipy 1.14.1 which is incompatible.\u001B[0m\u001B[31m\n\u001B[0m",
     "output_type": "stream"
    }
   ]
  },
  {
   "cell_type": "code",
   "source": "!pip install faiss-gpu rank_bm25",
   "metadata": {
    "execution": {
     "iopub.status.busy": "2024-10-11T10:18:04.417318Z",
     "iopub.execute_input": "2024-10-11T10:18:04.417740Z",
     "iopub.status.idle": "2024-10-11T10:18:20.496142Z",
     "shell.execute_reply.started": "2024-10-11T10:18:04.417697Z",
     "shell.execute_reply": "2024-10-11T10:18:20.494891Z"
    },
    "trusted": true
   },
   "execution_count": 2,
   "outputs": [
    {
     "name": "stdout",
     "text": "Collecting faiss-gpu\n  Downloading faiss_gpu-1.7.2-cp310-cp310-manylinux_2_17_x86_64.manylinux2014_x86_64.whl.metadata (1.4 kB)\nCollecting rank_bm25\n  Downloading rank_bm25-0.2.2-py3-none-any.whl.metadata (3.2 kB)\nRequirement already satisfied: numpy in /opt/conda/lib/python3.10/site-packages (from rank_bm25) (1.26.4)\nDownloading faiss_gpu-1.7.2-cp310-cp310-manylinux_2_17_x86_64.manylinux2014_x86_64.whl (85.5 MB)\n\u001B[2K   \u001B[90m━━━━━━━━━━━━━━━━━━━━━━━━━━━━━━━━━━━━━━━━\u001B[0m \u001B[32m85.5/85.5 MB\u001B[0m \u001B[31m18.4 MB/s\u001B[0m eta \u001B[36m0:00:00\u001B[0m:00:01\u001B[0m00:01\u001B[0m\n\u001B[?25hDownloading rank_bm25-0.2.2-py3-none-any.whl (8.6 kB)\nInstalling collected packages: faiss-gpu, rank_bm25\nSuccessfully installed faiss-gpu-1.7.2 rank_bm25-0.2.2\n",
     "output_type": "stream"
    }
   ]
  },
  {
   "cell_type": "code",
   "source": [
    "from langchain_community.document_loaders import PyPDFDirectoryLoader\n",
    "from langchain_text_splitters import RecursiveCharacterTextSplitter, CharacterTextSplitter,TokenTextSplitter\n",
    "from langchain_community.embeddings.huggingface import HuggingFaceEmbeddings\n",
    "from langchain_community.retrievers.bm25 import BM25Retriever\n",
    "from langchain.retrievers import EnsembleRetriever\n",
    "from langchain_community.vectorstores import Chroma, FAISS\n",
    "from langchain_core.output_parsers import StrOutputParser\n",
    "from langchain_core.runnables import RunnablePassthrough, RunnableParallel\n",
    "from sentence_transformers import SentenceTransformer\n",
    "from tqdm import tqdm\n",
    "import pandas as pd\n",
    "import numpy as np\n",
    "import torch\n",
    "import os\n",
    "import gc\n",
    "import re\n",
    "\n",
    "DOCS_DIR = './A_document'\n",
    "EMB_MODEL = './bge-large-zh-v1.5'\n",
    "RERANK_MODEL = \"BAAI/bge-reranker-large\"\n",
    "PERSIST_DIR = './vectordb' \n",
    "QUERY_DIR = './A榜/A_question.csv'\n",
    "SUB_DIR = './submit_example.csv'\n"
   ],
   "metadata": {
    "execution": {
     "iopub.status.busy": "2024-10-11T12:03:49.352960Z",
     "iopub.execute_input": "2024-10-11T12:03:49.353972Z",
     "iopub.status.idle": "2024-10-11T12:03:49.362242Z",
     "shell.execute_reply.started": "2024-10-11T12:03:49.353926Z",
     "shell.execute_reply": "2024-10-11T12:03:49.361129Z"
    },
    "trusted": true
   },
   "execution_count": 81,
   "outputs": []
  },
  {
   "cell_type": "code",
   "source": [
    "query = pd.read_csv(QUERY_DIR)\n",
    "sub = pd.read_csv(\"./submit_example.csv\")\n",
    "display(query.head(3))\n",
    "display(sub.head(3))"
   ],
   "metadata": {
    "execution": {
     "iopub.status.busy": "2024-10-11T10:19:53.181193Z",
     "iopub.execute_input": "2024-10-11T10:19:53.181655Z",
     "iopub.status.idle": "2024-10-11T10:19:53.284636Z",
     "shell.execute_reply.started": "2024-10-11T10:19:53.181614Z",
     "shell.execute_reply": "2024-10-11T10:19:53.283747Z"
    },
    "trusted": true
   },
   "execution_count": 5,
   "outputs": [
    {
     "output_type": "display_data",
     "data": {
      "text/plain": "   ques_id                                       question\n0        1  根据年度报告，2022年中国联通在向数字科技领军企业转变的过程中实现了哪些维度的转型升级？\n1        2                      告诉我2022年联通产业互联网收入的同比增长速度。\n2        3                       根据2022年度报告，中国联通的企业定位是什么？",
      "text/html": "<div>\n<style scoped>\n    .dataframe tbody tr th:only-of-type {\n        vertical-align: middle;\n    }\n\n    .dataframe tbody tr th {\n        vertical-align: top;\n    }\n\n    .dataframe thead th {\n        text-align: right;\n    }\n</style>\n<table border=\"1\" class=\"dataframe\">\n  <thead>\n    <tr style=\"text-align: right;\">\n      <th></th>\n      <th>ques_id</th>\n      <th>question</th>\n    </tr>\n  </thead>\n  <tbody>\n    <tr>\n      <th>0</th>\n      <td>1</td>\n      <td>根据年度报告，2022年中国联通在向数字科技领军企业转变的过程中实现了哪些维度的转型升级？</td>\n    </tr>\n    <tr>\n      <th>1</th>\n      <td>2</td>\n      <td>告诉我2022年联通产业互联网收入的同比增长速度。</td>\n    </tr>\n    <tr>\n      <th>2</th>\n      <td>3</td>\n      <td>根据2022年度报告，中国联通的企业定位是什么？</td>\n    </tr>\n  </tbody>\n</table>\n</div>"
     },
     "metadata": {}
    },
    {
     "output_type": "display_data",
     "data": {
      "text/plain": "   ques_id                                       question  \\\n0        1  根据年度报告，2022年中国联通在向数字科技领军企业转变的过程中实现了哪些维度的转型升级？   \n1        2                      告诉我2022年联通产业互联网收入的同比增长速度。   \n2        3                       根据2022年度报告，中国联通的企业定位是什么？   \n\n                                              answer  \\\n0  我们坚定践行网络强国、数字中国、智慧社会战略部署，今天的中国联通，正在从传统运营商加速向数字...   \n1  我们坚定践行网络强国、数字中国、智慧社会战略部署，今天的中国联通，正在从传统运营商加速向数字...   \n2  我们坚定践行网络强国、数字中国、智慧社会战略部署，今天的中国联通，正在从传统运营商加速向数字...   \n\n                                           embedding  \n0  -0.02707982249557972,-0.009818901307880878,-0....  \n1  -0.02707982249557972,-0.009818901307880878,-0....  \n2  -0.02707982249557972,-0.009818901307880878,-0....  ",
      "text/html": "<div>\n<style scoped>\n    .dataframe tbody tr th:only-of-type {\n        vertical-align: middle;\n    }\n\n    .dataframe tbody tr th {\n        vertical-align: top;\n    }\n\n    .dataframe thead th {\n        text-align: right;\n    }\n</style>\n<table border=\"1\" class=\"dataframe\">\n  <thead>\n    <tr style=\"text-align: right;\">\n      <th></th>\n      <th>ques_id</th>\n      <th>question</th>\n      <th>answer</th>\n      <th>embedding</th>\n    </tr>\n  </thead>\n  <tbody>\n    <tr>\n      <th>0</th>\n      <td>1</td>\n      <td>根据年度报告，2022年中国联通在向数字科技领军企业转变的过程中实现了哪些维度的转型升级？</td>\n      <td>我们坚定践行网络强国、数字中国、智慧社会战略部署，今天的中国联通，正在从传统运营商加速向数字...</td>\n      <td>-0.02707982249557972,-0.009818901307880878,-0....</td>\n    </tr>\n    <tr>\n      <th>1</th>\n      <td>2</td>\n      <td>告诉我2022年联通产业互联网收入的同比增长速度。</td>\n      <td>我们坚定践行网络强国、数字中国、智慧社会战略部署，今天的中国联通，正在从传统运营商加速向数字...</td>\n      <td>-0.02707982249557972,-0.009818901307880878,-0....</td>\n    </tr>\n    <tr>\n      <th>2</th>\n      <td>3</td>\n      <td>根据2022年度报告，中国联通的企业定位是什么？</td>\n      <td>我们坚定践行网络强国、数字中国、智慧社会战略部署，今天的中国联通，正在从传统运营商加速向数字...</td>\n      <td>-0.02707982249557972,-0.009818901307880878,-0....</td>\n    </tr>\n  </tbody>\n</table>\n</div>"
     },
     "metadata": {}
    }
   ]
  },
  {
   "cell_type": "markdown",
   "source": "### PDF文档解析和切分",
   "metadata": {}
  },
  {
   "cell_type": "code",
   "source": "loader = PyPDFDirectoryLoader(DOCS_DIR)\npages = loader.load_and_split()\npdf_list = os.listdir(DOCS_DIR)",
   "metadata": {
    "execution": {
     "iopub.status.busy": "2024-10-11T13:25:34.584442Z",
     "iopub.execute_input": "2024-10-11T13:25:34.584929Z",
     "iopub.status.idle": "2024-10-11T13:26:46.525409Z",
     "shell.execute_reply.started": "2024-10-11T13:25:34.584891Z",
     "shell.execute_reply": "2024-10-11T13:26:46.524376Z"
    },
    "trusted": true
   },
   "execution_count": 118,
   "outputs": []
  },
  {
   "cell_type": "code",
   "source": "pdf_text = { pdf_page.metadata['source'][-8:]:'' for pdf_page  in pages }\nfor pdf in tqdm(pdf_list):\n    for pdf_page in pages:\n        if pdf in pdf_page.metadata['source']:\n            pdf_text[pdf] += pdf_page.page_content\n        else:\n            continue\nprint('key:pdf value:text')",
   "metadata": {
    "execution": {
     "iopub.status.busy": "2024-10-11T13:26:46.527412Z",
     "iopub.execute_input": "2024-10-11T13:26:46.527770Z",
     "iopub.status.idle": "2024-10-11T13:26:46.572445Z",
     "shell.execute_reply.started": "2024-10-11T13:26:46.527731Z",
     "shell.execute_reply": "2024-10-11T13:26:46.571412Z"
    },
    "trusted": true
   },
   "execution_count": 119,
   "outputs": [
    {
     "name": "stderr",
     "text": "100%|██████████| 120/120 [00:00<00:00, 3622.21it/s]",
     "output_type": "stream"
    },
    {
     "name": "stdout",
     "text": "key:pdf value:text\n",
     "output_type": "stream"
    },
    {
     "name": "stderr",
     "text": "\n",
     "output_type": "stream"
    }
   ]
  },
  {
   "cell_type": "code",
   "source": "def filter_text(text):\n    # 页码清除 效果不好\n#     page_id_pattern1 = r'\\n\\d+\\s*/\\s*\\d+\\s*\\n'\n#     page_id_pattern2 = r'\\n\\d+\\n'\n#     page_id_pattern3 = r'\\n\\d+\\s*?'\n\n#     page_id_pattern = page_id_pattern1+'|'+page_id_pattern2+'|'+page_id_pattern3\n#     text = re.sub(page_id_pattern,'',text)\n    \n    # '\\n', ' ' 删除\n    text = text.replace('\\n','').replace(' ','')\n    \n    # 删除页码\n    \n    # 删除本文档为2024CCFBDC***\n    head_pattern = '本文档为2024CCFBDCI比赛用语料的一部分。[^\\s]+仅允许在本次比赛中使用。'\n    # news_pattern\n    pattern1 = r\"发布时间：[^\\s]+发布人：新闻宣传中心\"\n    pattern2 = r\"发布时间：[^\\s]+发布人：新闻发布人\"\n    pattern3 =  r'发布时间：\\d{4}年\\d{1,2}月\\d{1,2}日'\n    news_pattern = head_pattern+'|'+pattern1+'|'+pattern2+'|'+pattern3\n    text = re.sub(news_pattern,'',text)\n    \n    \n    # report_pattern\n    report_pattern1 = '第一节重要提示[^\\s]+本次利润分配方案尚需提交本公司股东大会审议。'\n    report_pattern12 = '一重要提示[^\\s]+股东大会审议。'\n    report_pattern13 = '一、重要提示[^\\s]+季度报告未经审计。'\n    report_pattern2 = '本公司董事会及全体董事保证本公告内容不存在任何虚假记载、[^\\s]+季度财务报表是否经审计□是√否'\n    report_pattern3 = '中国联合网络通信股份有限公司（简称“公司”）董事会审计委员会根据相关法律法规、[^\\s]+汇报如下：'\n    report_pattern = report_pattern1+'|'+report_pattern12+'|'+report_pattern13+'|'+report_pattern2+'|'+report_pattern3\n    text = re.sub( report_pattern,'',text)\n#     white paper 版本一 效果不好\n    # 优先级别 bp1 bp2 bp3\n#     bp_pattern_law = '版权声明[^\\s]+追究其相关法律责任。'\n#     bp_pattern1 = r'目录.*?披露发展报告（\\d{4}年）' # 只针对AZ08.pdf\n#     bp_pattern2 = r'目录.*?白皮书.*?（\\d{4}年）'\n#     bp_pattern3 = r'目录.*?白皮书'\n#     bp_pattern = bp_pattern_law  +'|'+bp_pattern1+'|'+bp_pattern2+'|'+bp_pattern3\n#     text = re.sub(bp_pattern,'',text)\n    \n#     print(text)\n    \n    return text\n    ",
   "metadata": {
    "execution": {
     "iopub.status.busy": "2024-10-11T13:26:46.573801Z",
     "iopub.execute_input": "2024-10-11T13:26:46.574167Z",
     "iopub.status.idle": "2024-10-11T13:26:46.584164Z",
     "shell.execute_reply.started": "2024-10-11T13:26:46.574130Z",
     "shell.execute_reply": "2024-10-11T13:26:46.583064Z"
    },
    "trusted": true
   },
   "execution_count": 120,
   "outputs": []
  },
  {
   "cell_type": "code",
   "source": "for pdf_id in pdf_text.keys():\n    pdf_text[pdf_id] = filter_text(pdf_text[pdf_id])\nwith open('AZ.txt','w',encoding = 'utf-8') as file:\n    pdf_all = ''.join(list(pdf_text.values())).encode('utf-8', 'replace').decode('utf-8')\n    file.write( pdf_all)    ",
   "metadata": {
    "execution": {
     "iopub.status.busy": "2024-10-11T13:26:46.587437Z",
     "iopub.execute_input": "2024-10-11T13:26:46.587956Z",
     "iopub.status.idle": "2024-10-11T13:26:46.688801Z",
     "shell.execute_reply.started": "2024-10-11T13:26:46.587909Z",
     "shell.execute_reply": "2024-10-11T13:26:46.687730Z"
    },
    "trusted": true
   },
   "execution_count": 121,
   "outputs": []
  },
  {
   "cell_type": "code",
   "source": "from langchain_community.document_loaders import TextLoader\nloader = TextLoader(\"AZ.txt\",encoding=\"utf-8\")\ndocuments = loader.load()\n#分割文本\ntext_splitter = RecursiveCharacterTextSplitter(        \n        chunk_size=245,             \n        chunk_overlap=128,\n        separators = [\"。\", \"！\", \"？\"],\n        keep_separator='end',\n    )\ndocs = text_splitter.split_documents(documents)\n",
   "metadata": {
    "execution": {
     "iopub.status.busy": "2024-10-11T13:26:46.699097Z",
     "iopub.execute_input": "2024-10-11T13:26:46.699449Z",
     "iopub.status.idle": "2024-10-11T13:26:46.814893Z",
     "shell.execute_reply.started": "2024-10-11T13:26:46.699412Z",
     "shell.execute_reply": "2024-10-11T13:26:46.813777Z"
    },
    "trusted": true
   },
   "execution_count": 123,
   "outputs": []
  },
  {
   "cell_type": "code",
   "source": "len(docs)",
   "metadata": {
    "execution": {
     "iopub.status.busy": "2024-10-11T14:07:24.795791Z",
     "iopub.execute_input": "2024-10-11T14:07:24.796626Z",
     "iopub.status.idle": "2024-10-11T14:07:24.803729Z",
     "shell.execute_reply.started": "2024-10-11T14:07:24.796584Z",
     "shell.execute_reply": "2024-10-11T14:07:24.802429Z"
    },
    "trusted": true
   },
   "execution_count": 137,
   "outputs": [
    {
     "execution_count": 137,
     "output_type": "execute_result",
     "data": {
      "text/plain": "4972"
     },
     "metadata": {}
    }
   ]
  },
  {
   "cell_type": "markdown",
   "source": "### 文本块向量化（比赛限定使用bge-large-zh-v1.5模型）",
   "metadata": {}
  },
  {
   "cell_type": "code",
   "source": "embeddings = HuggingFaceEmbeddings(model_name=EMB_MODEL, show_progress=True)\nvectordb = FAISS.from_documents(   \n    documents=docs,\n    embedding=embeddings,\n)\n\nvectordb.save_local(PERSIST_DIR)",
   "metadata": {
    "execution": {
     "iopub.status.busy": "2024-10-11T13:26:46.835571Z",
     "iopub.execute_input": "2024-10-11T13:26:46.835956Z",
     "iopub.status.idle": "2024-10-11T13:28:31.688884Z",
     "shell.execute_reply.started": "2024-10-11T13:26:46.835919Z",
     "shell.execute_reply": "2024-10-11T13:28:31.687701Z"
    },
    "trusted": true
   },
   "execution_count": 126,
   "outputs": [
    {
     "output_type": "display_data",
     "data": {
      "text/plain": "Batches:   0%|          | 0/156 [00:00<?, ?it/s]",
      "application/vnd.jupyter.widget-view+json": {
       "version_major": 2,
       "version_minor": 0,
       "model_id": "ff483c987b5d4da18c2745c4b89aa64a"
      }
     },
     "metadata": {}
    }
   ]
  },
  {
   "cell_type": "markdown",
   "source": "### 混合检索器\n\n#### bm25 \n- k1 较高的 k1 值意味着词频对评分的影响更大。\n- b  当 b=1 时，文档长度的影响最大；当b = 0 时，文档长度不影响评分。\n- langchain 默认切分英文split()，中文需要jieba分词",
   "metadata": {}
  },
  {
   "cell_type": "code",
   "source": "import jieba\ndense_retriever = vectordb.as_retriever(search_kwargs={\"k\": 5})\nbm25_retriever = BM25Retriever.from_documents(\n    docs, \n    k=5, \n    bm25_params={\"k1\": 1.5, \"b\": 0.75}, \n    preprocess_func=jieba.lcut\n)\nensemble_retriever = EnsembleRetriever(retrievers=[bm25_retriever, dense_retriever], weights=[0.4, 0.6])",
   "metadata": {
    "execution": {
     "iopub.status.busy": "2024-10-11T14:03:09.292304Z",
     "iopub.execute_input": "2024-10-11T14:03:09.292735Z",
     "iopub.status.idle": "2024-10-11T14:03:16.300795Z",
     "shell.execute_reply.started": "2024-10-11T14:03:09.292698Z",
     "shell.execute_reply": "2024-10-11T14:03:16.299898Z"
    },
    "trusted": true
   },
   "execution_count": 132,
   "outputs": []
  },
  {
   "cell_type": "markdown",
   "source": "### 文本召回和重排",
   "metadata": {}
  },
  {
   "cell_type": "code",
   "source": "from langchain.retrievers import ContextualCompressionRetriever\nfrom langchain.retrievers.document_compressors import CrossEncoderReranker\nfrom langchain_community.cross_encoders import HuggingFaceCrossEncoder\n\ndef rerank(questions, retriever, top_n=1, cut_len=384):\n    rerank_model = HuggingFaceCrossEncoder(model_name=RERANK_MODEL)\n    compressor = CrossEncoderReranker(model=rerank_model, top_n=top_n)\n    compression_retriever = ContextualCompressionRetriever(\n        base_compressor=compressor, base_retriever=retriever\n    )\n    rerank_answers = []\n    for question in tqdm(questions):\n        relevant_docs = compression_retriever.invoke(question)\n        answer=''\n        for rd in relevant_docs:\n            answer += rd.page_content\n        rerank_answers.append(answer[:245])\n    return rerank_answers\n\nquestions = list(query['question'].values)\nrerank_answers = rerank(questions, ensemble_retriever)\nprint(rerank_answers[0])",
   "metadata": {
    "execution": {
     "iopub.status.busy": "2024-10-11T14:05:35.171821Z",
     "iopub.execute_input": "2024-10-11T14:05:35.172805Z",
     "iopub.status.idle": "2024-10-11T14:06:06.080741Z",
     "shell.execute_reply.started": "2024-10-11T14:05:35.172756Z",
     "shell.execute_reply": "2024-10-11T14:06:06.079331Z"
    },
    "trusted": true
   },
   "execution_count": 135,
   "outputs": [
    {
     "name": "stderr",
     "text": "  0%|          | 0/100 [00:00<?, ?it/s]",
     "output_type": "stream"
    },
    {
     "output_type": "display_data",
     "data": {
      "text/plain": "Batches:   0%|          | 0/1 [00:00<?, ?it/s]",
      "application/vnd.jupyter.widget-view+json": {
       "version_major": 2,
       "version_minor": 0,
       "model_id": "a310a63d56e74666bd036b3dcf5bd199"
      }
     },
     "metadata": {}
    },
    {
     "output_type": "display_data",
     "data": {
      "text/plain": "Batches:   0%|          | 0/1 [00:00<?, ?it/s]",
      "application/vnd.jupyter.widget-view+json": {
       "version_major": 2,
       "version_minor": 0,
       "model_id": "afe3201434ee496eadcc2a354f791211"
      }
     },
     "metadata": {}
    },
    {
     "name": "stderr",
     "text": "  1%|          | 1/100 [00:01<01:46,  1.08s/it]",
     "output_type": "stream"
    },
    {
     "output_type": "display_data",
     "data": {
      "text/plain": "Batches:   0%|          | 0/1 [00:00<?, ?it/s]",
      "application/vnd.jupyter.widget-view+json": {
       "version_major": 2,
       "version_minor": 0,
       "model_id": "39b237d13181450cb2fb5c03520ef8d4"
      }
     },
     "metadata": {}
    },
    {
     "output_type": "display_data",
     "data": {
      "text/plain": "Batches:   0%|          | 0/1 [00:00<?, ?it/s]",
      "application/vnd.jupyter.widget-view+json": {
       "version_major": 2,
       "version_minor": 0,
       "model_id": "6af515d5654e44aeb53ab119b17a6070"
      }
     },
     "metadata": {}
    },
    {
     "name": "stderr",
     "text": "  2%|▏         | 2/100 [00:01<00:58,  1.68it/s]",
     "output_type": "stream"
    },
    {
     "output_type": "display_data",
     "data": {
      "text/plain": "Batches:   0%|          | 0/1 [00:00<?, ?it/s]",
      "application/vnd.jupyter.widget-view+json": {
       "version_major": 2,
       "version_minor": 0,
       "model_id": "cb97ca4de55645f6a18218e44bf31ff4"
      }
     },
     "metadata": {}
    },
    {
     "output_type": "display_data",
     "data": {
      "text/plain": "Batches:   0%|          | 0/1 [00:00<?, ?it/s]",
      "application/vnd.jupyter.widget-view+json": {
       "version_major": 2,
       "version_minor": 0,
       "model_id": "1394fdbfbabc424482172d16809232d5"
      }
     },
     "metadata": {}
    },
    {
     "name": "stderr",
     "text": "  3%|▎         | 3/100 [00:01<00:48,  2.02it/s]",
     "output_type": "stream"
    },
    {
     "output_type": "display_data",
     "data": {
      "text/plain": "Batches:   0%|          | 0/1 [00:00<?, ?it/s]",
      "application/vnd.jupyter.widget-view+json": {
       "version_major": 2,
       "version_minor": 0,
       "model_id": "767046fd5d444e51b900e33c7aebafc0"
      }
     },
     "metadata": {}
    },
    {
     "output_type": "display_data",
     "data": {
      "text/plain": "Batches:   0%|          | 0/1 [00:00<?, ?it/s]",
      "application/vnd.jupyter.widget-view+json": {
       "version_major": 2,
       "version_minor": 0,
       "model_id": "e145327da72e4de99295b91352e204f6"
      }
     },
     "metadata": {}
    },
    {
     "name": "stderr",
     "text": "  4%|▍         | 4/100 [00:02<00:40,  2.36it/s]",
     "output_type": "stream"
    },
    {
     "output_type": "display_data",
     "data": {
      "text/plain": "Batches:   0%|          | 0/1 [00:00<?, ?it/s]",
      "application/vnd.jupyter.widget-view+json": {
       "version_major": 2,
       "version_minor": 0,
       "model_id": "d1da8bbd5aa4401da469f851848bea64"
      }
     },
     "metadata": {}
    },
    {
     "output_type": "display_data",
     "data": {
      "text/plain": "Batches:   0%|          | 0/1 [00:00<?, ?it/s]",
      "application/vnd.jupyter.widget-view+json": {
       "version_major": 2,
       "version_minor": 0,
       "model_id": "d1715b034da64392983dd4902f8d746d"
      }
     },
     "metadata": {}
    },
    {
     "name": "stderr",
     "text": "  5%|▌         | 5/100 [00:02<00:35,  2.68it/s]",
     "output_type": "stream"
    },
    {
     "output_type": "display_data",
     "data": {
      "text/plain": "Batches:   0%|          | 0/1 [00:00<?, ?it/s]",
      "application/vnd.jupyter.widget-view+json": {
       "version_major": 2,
       "version_minor": 0,
       "model_id": "8ddc2f97e24e41e982eee3dfab403133"
      }
     },
     "metadata": {}
    },
    {
     "output_type": "display_data",
     "data": {
      "text/plain": "Batches:   0%|          | 0/1 [00:00<?, ?it/s]",
      "application/vnd.jupyter.widget-view+json": {
       "version_major": 2,
       "version_minor": 0,
       "model_id": "1f1aa1137f104b01bd10697d98f7cc2b"
      }
     },
     "metadata": {}
    },
    {
     "name": "stderr",
     "text": "  6%|▌         | 6/100 [00:02<00:43,  2.14it/s]",
     "output_type": "stream"
    },
    {
     "output_type": "display_data",
     "data": {
      "text/plain": "Batches:   0%|          | 0/1 [00:00<?, ?it/s]",
      "application/vnd.jupyter.widget-view+json": {
       "version_major": 2,
       "version_minor": 0,
       "model_id": "cf5584c04cab4fe0ba18d2e07084e7ad"
      }
     },
     "metadata": {}
    },
    {
     "output_type": "display_data",
     "data": {
      "text/plain": "Batches:   0%|          | 0/1 [00:00<?, ?it/s]",
      "application/vnd.jupyter.widget-view+json": {
       "version_major": 2,
       "version_minor": 0,
       "model_id": "d90ec9d626654103a32c33f15a584425"
      }
     },
     "metadata": {}
    },
    {
     "name": "stderr",
     "text": "  7%|▋         | 7/100 [00:03<00:47,  1.94it/s]",
     "output_type": "stream"
    },
    {
     "output_type": "display_data",
     "data": {
      "text/plain": "Batches:   0%|          | 0/1 [00:00<?, ?it/s]",
      "application/vnd.jupyter.widget-view+json": {
       "version_major": 2,
       "version_minor": 0,
       "model_id": "3c65181ebb384bb2aae64108c48203e4"
      }
     },
     "metadata": {}
    },
    {
     "output_type": "display_data",
     "data": {
      "text/plain": "Batches:   0%|          | 0/1 [00:00<?, ?it/s]",
      "application/vnd.jupyter.widget-view+json": {
       "version_major": 2,
       "version_minor": 0,
       "model_id": "be3fc2d6236344878127be39174637ca"
      }
     },
     "metadata": {}
    },
    {
     "name": "stderr",
     "text": "  8%|▊         | 8/100 [00:04<00:48,  1.91it/s]",
     "output_type": "stream"
    },
    {
     "output_type": "display_data",
     "data": {
      "text/plain": "Batches:   0%|          | 0/1 [00:00<?, ?it/s]",
      "application/vnd.jupyter.widget-view+json": {
       "version_major": 2,
       "version_minor": 0,
       "model_id": "ae3345d2133d461a8818b463650ffed7"
      }
     },
     "metadata": {}
    },
    {
     "output_type": "display_data",
     "data": {
      "text/plain": "Batches:   0%|          | 0/1 [00:00<?, ?it/s]",
      "application/vnd.jupyter.widget-view+json": {
       "version_major": 2,
       "version_minor": 0,
       "model_id": "a97de741a5d046da99f5c32913616bc0"
      }
     },
     "metadata": {}
    },
    {
     "name": "stderr",
     "text": "  9%|▉         | 9/100 [00:04<00:40,  2.26it/s]",
     "output_type": "stream"
    },
    {
     "output_type": "display_data",
     "data": {
      "text/plain": "Batches:   0%|          | 0/1 [00:00<?, ?it/s]",
      "application/vnd.jupyter.widget-view+json": {
       "version_major": 2,
       "version_minor": 0,
       "model_id": "254d7857d2934e139b8a8ac16c5507f6"
      }
     },
     "metadata": {}
    },
    {
     "output_type": "display_data",
     "data": {
      "text/plain": "Batches:   0%|          | 0/1 [00:00<?, ?it/s]",
      "application/vnd.jupyter.widget-view+json": {
       "version_major": 2,
       "version_minor": 0,
       "model_id": "335fd6e1aed4469f8ed26d4596a53d9f"
      }
     },
     "metadata": {}
    },
    {
     "name": "stderr",
     "text": " 10%|█         | 10/100 [00:04<00:42,  2.11it/s]",
     "output_type": "stream"
    },
    {
     "output_type": "display_data",
     "data": {
      "text/plain": "Batches:   0%|          | 0/1 [00:00<?, ?it/s]",
      "application/vnd.jupyter.widget-view+json": {
       "version_major": 2,
       "version_minor": 0,
       "model_id": "82d5815bce08464fb98a463ceb76d373"
      }
     },
     "metadata": {}
    },
    {
     "output_type": "display_data",
     "data": {
      "text/plain": "Batches:   0%|          | 0/1 [00:00<?, ?it/s]",
      "application/vnd.jupyter.widget-view+json": {
       "version_major": 2,
       "version_minor": 0,
       "model_id": "58ba9c2a58774945a1ab1e4cae7ae984"
      }
     },
     "metadata": {}
    },
    {
     "name": "stderr",
     "text": " 11%|█         | 11/100 [00:05<00:34,  2.55it/s]",
     "output_type": "stream"
    },
    {
     "output_type": "display_data",
     "data": {
      "text/plain": "Batches:   0%|          | 0/1 [00:00<?, ?it/s]",
      "application/vnd.jupyter.widget-view+json": {
       "version_major": 2,
       "version_minor": 0,
       "model_id": "8cec18bf102d4fbcbcfb8ffe983b140d"
      }
     },
     "metadata": {}
    },
    {
     "output_type": "display_data",
     "data": {
      "text/plain": "Batches:   0%|          | 0/1 [00:00<?, ?it/s]",
      "application/vnd.jupyter.widget-view+json": {
       "version_major": 2,
       "version_minor": 0,
       "model_id": "dfe6ae90a64147329eb6fb6d559db095"
      }
     },
     "metadata": {}
    },
    {
     "name": "stderr",
     "text": " 12%|█▏        | 12/100 [00:05<00:40,  2.18it/s]",
     "output_type": "stream"
    },
    {
     "output_type": "display_data",
     "data": {
      "text/plain": "Batches:   0%|          | 0/1 [00:00<?, ?it/s]",
      "application/vnd.jupyter.widget-view+json": {
       "version_major": 2,
       "version_minor": 0,
       "model_id": "79698df63ea2436b8121edc78ed00877"
      }
     },
     "metadata": {}
    },
    {
     "output_type": "display_data",
     "data": {
      "text/plain": "Batches:   0%|          | 0/1 [00:00<?, ?it/s]",
      "application/vnd.jupyter.widget-view+json": {
       "version_major": 2,
       "version_minor": 0,
       "model_id": "4a142afaaea3479e9fbf788b3d62d8c3"
      }
     },
     "metadata": {}
    },
    {
     "name": "stderr",
     "text": " 13%|█▎        | 13/100 [00:06<00:39,  2.18it/s]",
     "output_type": "stream"
    },
    {
     "output_type": "display_data",
     "data": {
      "text/plain": "Batches:   0%|          | 0/1 [00:00<?, ?it/s]",
      "application/vnd.jupyter.widget-view+json": {
       "version_major": 2,
       "version_minor": 0,
       "model_id": "39fdd3daaff9497a973fce5f3c9eb437"
      }
     },
     "metadata": {}
    },
    {
     "output_type": "display_data",
     "data": {
      "text/plain": "Batches:   0%|          | 0/1 [00:00<?, ?it/s]",
      "application/vnd.jupyter.widget-view+json": {
       "version_major": 2,
       "version_minor": 0,
       "model_id": "445ebec412064b2192e131ff27a72b09"
      }
     },
     "metadata": {}
    },
    {
     "name": "stderr",
     "text": " 14%|█▍        | 14/100 [00:06<00:36,  2.37it/s]",
     "output_type": "stream"
    },
    {
     "output_type": "display_data",
     "data": {
      "text/plain": "Batches:   0%|          | 0/1 [00:00<?, ?it/s]",
      "application/vnd.jupyter.widget-view+json": {
       "version_major": 2,
       "version_minor": 0,
       "model_id": "a4bc305db02444d69c828d18756a3a46"
      }
     },
     "metadata": {}
    },
    {
     "output_type": "display_data",
     "data": {
      "text/plain": "Batches:   0%|          | 0/1 [00:00<?, ?it/s]",
      "application/vnd.jupyter.widget-view+json": {
       "version_major": 2,
       "version_minor": 0,
       "model_id": "ea567f3851ca4a20afc63374b15c7fb0"
      }
     },
     "metadata": {}
    },
    {
     "name": "stderr",
     "text": " 15%|█▌        | 15/100 [00:06<00:32,  2.63it/s]",
     "output_type": "stream"
    },
    {
     "output_type": "display_data",
     "data": {
      "text/plain": "Batches:   0%|          | 0/1 [00:00<?, ?it/s]",
      "application/vnd.jupyter.widget-view+json": {
       "version_major": 2,
       "version_minor": 0,
       "model_id": "8a6a08601683473aaffeee889cd9b972"
      }
     },
     "metadata": {}
    },
    {
     "output_type": "display_data",
     "data": {
      "text/plain": "Batches:   0%|          | 0/1 [00:00<?, ?it/s]",
      "application/vnd.jupyter.widget-view+json": {
       "version_major": 2,
       "version_minor": 0,
       "model_id": "a56f6178b43c4e84a06b159d7673694a"
      }
     },
     "metadata": {}
    },
    {
     "name": "stderr",
     "text": " 16%|█▌        | 16/100 [00:07<00:28,  2.93it/s]",
     "output_type": "stream"
    },
    {
     "output_type": "display_data",
     "data": {
      "text/plain": "Batches:   0%|          | 0/1 [00:00<?, ?it/s]",
      "application/vnd.jupyter.widget-view+json": {
       "version_major": 2,
       "version_minor": 0,
       "model_id": "05fb2dee15fb42028d33c764cfd4ef19"
      }
     },
     "metadata": {}
    },
    {
     "output_type": "display_data",
     "data": {
      "text/plain": "Batches:   0%|          | 0/1 [00:00<?, ?it/s]",
      "application/vnd.jupyter.widget-view+json": {
       "version_major": 2,
       "version_minor": 0,
       "model_id": "51cc3a5189494f1d8a75a6afd6a7fa5c"
      }
     },
     "metadata": {}
    },
    {
     "name": "stderr",
     "text": " 17%|█▋        | 17/100 [00:07<00:26,  3.10it/s]",
     "output_type": "stream"
    },
    {
     "output_type": "display_data",
     "data": {
      "text/plain": "Batches:   0%|          | 0/1 [00:00<?, ?it/s]",
      "application/vnd.jupyter.widget-view+json": {
       "version_major": 2,
       "version_minor": 0,
       "model_id": "00be376ca43a47b1955b38a27bf41510"
      }
     },
     "metadata": {}
    },
    {
     "output_type": "display_data",
     "data": {
      "text/plain": "Batches:   0%|          | 0/1 [00:00<?, ?it/s]",
      "application/vnd.jupyter.widget-view+json": {
       "version_major": 2,
       "version_minor": 0,
       "model_id": "0a965cc4298a46dfb48395be37d2ae99"
      }
     },
     "metadata": {}
    },
    {
     "name": "stderr",
     "text": " 18%|█▊        | 18/100 [00:07<00:25,  3.18it/s]",
     "output_type": "stream"
    },
    {
     "output_type": "display_data",
     "data": {
      "text/plain": "Batches:   0%|          | 0/1 [00:00<?, ?it/s]",
      "application/vnd.jupyter.widget-view+json": {
       "version_major": 2,
       "version_minor": 0,
       "model_id": "86740050e3f846b6abb8902c26136f85"
      }
     },
     "metadata": {}
    },
    {
     "output_type": "display_data",
     "data": {
      "text/plain": "Batches:   0%|          | 0/1 [00:00<?, ?it/s]",
      "application/vnd.jupyter.widget-view+json": {
       "version_major": 2,
       "version_minor": 0,
       "model_id": "42c673f8975a46f6bcbf37ab217a304c"
      }
     },
     "metadata": {}
    },
    {
     "name": "stderr",
     "text": " 19%|█▉        | 19/100 [00:07<00:24,  3.33it/s]",
     "output_type": "stream"
    },
    {
     "output_type": "display_data",
     "data": {
      "text/plain": "Batches:   0%|          | 0/1 [00:00<?, ?it/s]",
      "application/vnd.jupyter.widget-view+json": {
       "version_major": 2,
       "version_minor": 0,
       "model_id": "1031851fff7e42489d27ff951399fa06"
      }
     },
     "metadata": {}
    },
    {
     "output_type": "display_data",
     "data": {
      "text/plain": "Batches:   0%|          | 0/1 [00:00<?, ?it/s]",
      "application/vnd.jupyter.widget-view+json": {
       "version_major": 2,
       "version_minor": 0,
       "model_id": "cc1a81b2f3a4450aa8464b3b187cb496"
      }
     },
     "metadata": {}
    },
    {
     "name": "stderr",
     "text": " 20%|██        | 20/100 [00:08<00:23,  3.42it/s]",
     "output_type": "stream"
    },
    {
     "output_type": "display_data",
     "data": {
      "text/plain": "Batches:   0%|          | 0/1 [00:00<?, ?it/s]",
      "application/vnd.jupyter.widget-view+json": {
       "version_major": 2,
       "version_minor": 0,
       "model_id": "cae0dca1db2246299f78216f63fa22a6"
      }
     },
     "metadata": {}
    },
    {
     "output_type": "display_data",
     "data": {
      "text/plain": "Batches:   0%|          | 0/1 [00:00<?, ?it/s]",
      "application/vnd.jupyter.widget-view+json": {
       "version_major": 2,
       "version_minor": 0,
       "model_id": "80048ccb0efc4c6ba8d4ab9e77fa4b69"
      }
     },
     "metadata": {}
    },
    {
     "name": "stderr",
     "text": " 21%|██        | 21/100 [00:08<00:22,  3.44it/s]",
     "output_type": "stream"
    },
    {
     "output_type": "display_data",
     "data": {
      "text/plain": "Batches:   0%|          | 0/1 [00:00<?, ?it/s]",
      "application/vnd.jupyter.widget-view+json": {
       "version_major": 2,
       "version_minor": 0,
       "model_id": "317fe13a737948f591b800d98f894545"
      }
     },
     "metadata": {}
    },
    {
     "output_type": "display_data",
     "data": {
      "text/plain": "Batches:   0%|          | 0/1 [00:00<?, ?it/s]",
      "application/vnd.jupyter.widget-view+json": {
       "version_major": 2,
       "version_minor": 0,
       "model_id": "622c4b0b6ac84c2c86043fc97bdbb234"
      }
     },
     "metadata": {}
    },
    {
     "name": "stderr",
     "text": " 22%|██▏       | 22/100 [00:08<00:22,  3.53it/s]",
     "output_type": "stream"
    },
    {
     "output_type": "display_data",
     "data": {
      "text/plain": "Batches:   0%|          | 0/1 [00:00<?, ?it/s]",
      "application/vnd.jupyter.widget-view+json": {
       "version_major": 2,
       "version_minor": 0,
       "model_id": "a6eadfdcc0b14e6ea7a9b5e508f51e01"
      }
     },
     "metadata": {}
    },
    {
     "output_type": "display_data",
     "data": {
      "text/plain": "Batches:   0%|          | 0/1 [00:00<?, ?it/s]",
      "application/vnd.jupyter.widget-view+json": {
       "version_major": 2,
       "version_minor": 0,
       "model_id": "9f7e2eb2f7b8472e87da70dda53e02ae"
      }
     },
     "metadata": {}
    },
    {
     "name": "stderr",
     "text": " 23%|██▎       | 23/100 [00:09<00:21,  3.58it/s]",
     "output_type": "stream"
    },
    {
     "output_type": "display_data",
     "data": {
      "text/plain": "Batches:   0%|          | 0/1 [00:00<?, ?it/s]",
      "application/vnd.jupyter.widget-view+json": {
       "version_major": 2,
       "version_minor": 0,
       "model_id": "e0eea04fd9b4412f9d0a1d2c866d2d74"
      }
     },
     "metadata": {}
    },
    {
     "output_type": "display_data",
     "data": {
      "text/plain": "Batches:   0%|          | 0/1 [00:00<?, ?it/s]",
      "application/vnd.jupyter.widget-view+json": {
       "version_major": 2,
       "version_minor": 0,
       "model_id": "89e774e0d9fc4903b3f207204bf9038b"
      }
     },
     "metadata": {}
    },
    {
     "name": "stderr",
     "text": " 24%|██▍       | 24/100 [00:09<00:21,  3.60it/s]",
     "output_type": "stream"
    },
    {
     "output_type": "display_data",
     "data": {
      "text/plain": "Batches:   0%|          | 0/1 [00:00<?, ?it/s]",
      "application/vnd.jupyter.widget-view+json": {
       "version_major": 2,
       "version_minor": 0,
       "model_id": "02aaf576167e4d948f5e8a3133d240dd"
      }
     },
     "metadata": {}
    },
    {
     "output_type": "display_data",
     "data": {
      "text/plain": "Batches:   0%|          | 0/1 [00:00<?, ?it/s]",
      "application/vnd.jupyter.widget-view+json": {
       "version_major": 2,
       "version_minor": 0,
       "model_id": "9c18867111814d2f94aac7e6cdf8e92f"
      }
     },
     "metadata": {}
    },
    {
     "name": "stderr",
     "text": " 25%|██▌       | 25/100 [00:09<00:20,  3.58it/s]",
     "output_type": "stream"
    },
    {
     "output_type": "display_data",
     "data": {
      "text/plain": "Batches:   0%|          | 0/1 [00:00<?, ?it/s]",
      "application/vnd.jupyter.widget-view+json": {
       "version_major": 2,
       "version_minor": 0,
       "model_id": "42e0fc29819d40fda6851dc2154e02b1"
      }
     },
     "metadata": {}
    },
    {
     "output_type": "display_data",
     "data": {
      "text/plain": "Batches:   0%|          | 0/1 [00:00<?, ?it/s]",
      "application/vnd.jupyter.widget-view+json": {
       "version_major": 2,
       "version_minor": 0,
       "model_id": "184e381a12a64d66a189c292a8eba655"
      }
     },
     "metadata": {}
    },
    {
     "name": "stderr",
     "text": " 26%|██▌       | 26/100 [00:09<00:20,  3.65it/s]",
     "output_type": "stream"
    },
    {
     "output_type": "display_data",
     "data": {
      "text/plain": "Batches:   0%|          | 0/1 [00:00<?, ?it/s]",
      "application/vnd.jupyter.widget-view+json": {
       "version_major": 2,
       "version_minor": 0,
       "model_id": "cb7637176c8b45efb596166d4ff49670"
      }
     },
     "metadata": {}
    },
    {
     "output_type": "display_data",
     "data": {
      "text/plain": "Batches:   0%|          | 0/1 [00:00<?, ?it/s]",
      "application/vnd.jupyter.widget-view+json": {
       "version_major": 2,
       "version_minor": 0,
       "model_id": "9e1b11f992ed438c9203336176ba1c8a"
      }
     },
     "metadata": {}
    },
    {
     "name": "stderr",
     "text": " 27%|██▋       | 27/100 [00:10<00:19,  3.81it/s]",
     "output_type": "stream"
    },
    {
     "output_type": "display_data",
     "data": {
      "text/plain": "Batches:   0%|          | 0/1 [00:00<?, ?it/s]",
      "application/vnd.jupyter.widget-view+json": {
       "version_major": 2,
       "version_minor": 0,
       "model_id": "a01d9330454c4218adbf40b17469cd7d"
      }
     },
     "metadata": {}
    },
    {
     "output_type": "display_data",
     "data": {
      "text/plain": "Batches:   0%|          | 0/1 [00:00<?, ?it/s]",
      "application/vnd.jupyter.widget-view+json": {
       "version_major": 2,
       "version_minor": 0,
       "model_id": "3c8738ffb79347cc8e5f03c43a2f4fee"
      }
     },
     "metadata": {}
    },
    {
     "name": "stderr",
     "text": " 28%|██▊       | 28/100 [00:10<00:18,  3.99it/s]",
     "output_type": "stream"
    },
    {
     "output_type": "display_data",
     "data": {
      "text/plain": "Batches:   0%|          | 0/1 [00:00<?, ?it/s]",
      "application/vnd.jupyter.widget-view+json": {
       "version_major": 2,
       "version_minor": 0,
       "model_id": "efd6d10bb868489ca4506a4c504403ca"
      }
     },
     "metadata": {}
    },
    {
     "output_type": "display_data",
     "data": {
      "text/plain": "Batches:   0%|          | 0/1 [00:00<?, ?it/s]",
      "application/vnd.jupyter.widget-view+json": {
       "version_major": 2,
       "version_minor": 0,
       "model_id": "d47b091d233d404795e613f1d077627d"
      }
     },
     "metadata": {}
    },
    {
     "name": "stderr",
     "text": " 29%|██▉       | 29/100 [00:10<00:17,  4.13it/s]",
     "output_type": "stream"
    },
    {
     "output_type": "display_data",
     "data": {
      "text/plain": "Batches:   0%|          | 0/1 [00:00<?, ?it/s]",
      "application/vnd.jupyter.widget-view+json": {
       "version_major": 2,
       "version_minor": 0,
       "model_id": "98fd0411e05d4fbeba23b34dd118aff0"
      }
     },
     "metadata": {}
    },
    {
     "output_type": "display_data",
     "data": {
      "text/plain": "Batches:   0%|          | 0/1 [00:00<?, ?it/s]",
      "application/vnd.jupyter.widget-view+json": {
       "version_major": 2,
       "version_minor": 0,
       "model_id": "8749a69bcf0a4be4a19ab5445ea741cb"
      }
     },
     "metadata": {}
    },
    {
     "name": "stderr",
     "text": " 30%|███       | 30/100 [00:10<00:17,  4.01it/s]",
     "output_type": "stream"
    },
    {
     "output_type": "display_data",
     "data": {
      "text/plain": "Batches:   0%|          | 0/1 [00:00<?, ?it/s]",
      "application/vnd.jupyter.widget-view+json": {
       "version_major": 2,
       "version_minor": 0,
       "model_id": "979cff6bd9b34cb5967be9a489335c1c"
      }
     },
     "metadata": {}
    },
    {
     "output_type": "display_data",
     "data": {
      "text/plain": "Batches:   0%|          | 0/1 [00:00<?, ?it/s]",
      "application/vnd.jupyter.widget-view+json": {
       "version_major": 2,
       "version_minor": 0,
       "model_id": "91b1d71a65234bd980551a9d6e853cd2"
      }
     },
     "metadata": {}
    },
    {
     "name": "stderr",
     "text": " 31%|███       | 31/100 [00:10<00:16,  4.14it/s]",
     "output_type": "stream"
    },
    {
     "output_type": "display_data",
     "data": {
      "text/plain": "Batches:   0%|          | 0/1 [00:00<?, ?it/s]",
      "application/vnd.jupyter.widget-view+json": {
       "version_major": 2,
       "version_minor": 0,
       "model_id": "5ef208cd79be470487dd59517ecf1c6f"
      }
     },
     "metadata": {}
    },
    {
     "output_type": "display_data",
     "data": {
      "text/plain": "Batches:   0%|          | 0/1 [00:00<?, ?it/s]",
      "application/vnd.jupyter.widget-view+json": {
       "version_major": 2,
       "version_minor": 0,
       "model_id": "2008e67b9e664ce7a55523761b719507"
      }
     },
     "metadata": {}
    },
    {
     "name": "stderr",
     "text": " 32%|███▏      | 32/100 [00:11<00:16,  4.12it/s]",
     "output_type": "stream"
    },
    {
     "output_type": "display_data",
     "data": {
      "text/plain": "Batches:   0%|          | 0/1 [00:00<?, ?it/s]",
      "application/vnd.jupyter.widget-view+json": {
       "version_major": 2,
       "version_minor": 0,
       "model_id": "f233b418347e4863aeeb0d72bb4085ae"
      }
     },
     "metadata": {}
    },
    {
     "output_type": "display_data",
     "data": {
      "text/plain": "Batches:   0%|          | 0/1 [00:00<?, ?it/s]",
      "application/vnd.jupyter.widget-view+json": {
       "version_major": 2,
       "version_minor": 0,
       "model_id": "16757ad591d2430da76d3f5720e453d3"
      }
     },
     "metadata": {}
    },
    {
     "name": "stderr",
     "text": " 33%|███▎      | 33/100 [00:11<00:16,  4.13it/s]",
     "output_type": "stream"
    },
    {
     "output_type": "display_data",
     "data": {
      "text/plain": "Batches:   0%|          | 0/1 [00:00<?, ?it/s]",
      "application/vnd.jupyter.widget-view+json": {
       "version_major": 2,
       "version_minor": 0,
       "model_id": "e3ef690734114dd28849e7429b447aa0"
      }
     },
     "metadata": {}
    },
    {
     "output_type": "display_data",
     "data": {
      "text/plain": "Batches:   0%|          | 0/1 [00:00<?, ?it/s]",
      "application/vnd.jupyter.widget-view+json": {
       "version_major": 2,
       "version_minor": 0,
       "model_id": "6280a228887543659fcfe0a8fa2fbb01"
      }
     },
     "metadata": {}
    },
    {
     "name": "stderr",
     "text": " 34%|███▍      | 34/100 [00:11<00:18,  3.53it/s]",
     "output_type": "stream"
    },
    {
     "output_type": "display_data",
     "data": {
      "text/plain": "Batches:   0%|          | 0/1 [00:00<?, ?it/s]",
      "application/vnd.jupyter.widget-view+json": {
       "version_major": 2,
       "version_minor": 0,
       "model_id": "e5dba490406f40d1b4a5077a3d839bbb"
      }
     },
     "metadata": {}
    },
    {
     "output_type": "display_data",
     "data": {
      "text/plain": "Batches:   0%|          | 0/1 [00:00<?, ?it/s]",
      "application/vnd.jupyter.widget-view+json": {
       "version_major": 2,
       "version_minor": 0,
       "model_id": "0a3049f6e1674ba0b536204dca38ebac"
      }
     },
     "metadata": {}
    },
    {
     "name": "stderr",
     "text": " 35%|███▌      | 35/100 [00:12<00:17,  3.62it/s]",
     "output_type": "stream"
    },
    {
     "output_type": "display_data",
     "data": {
      "text/plain": "Batches:   0%|          | 0/1 [00:00<?, ?it/s]",
      "application/vnd.jupyter.widget-view+json": {
       "version_major": 2,
       "version_minor": 0,
       "model_id": "37781275ab164c799fbf5bd564bd92ba"
      }
     },
     "metadata": {}
    },
    {
     "output_type": "display_data",
     "data": {
      "text/plain": "Batches:   0%|          | 0/1 [00:00<?, ?it/s]",
      "application/vnd.jupyter.widget-view+json": {
       "version_major": 2,
       "version_minor": 0,
       "model_id": "006e9a760fa24186869c3dfb25b3bbd7"
      }
     },
     "metadata": {}
    },
    {
     "name": "stderr",
     "text": " 36%|███▌      | 36/100 [00:12<00:17,  3.62it/s]",
     "output_type": "stream"
    },
    {
     "output_type": "display_data",
     "data": {
      "text/plain": "Batches:   0%|          | 0/1 [00:00<?, ?it/s]",
      "application/vnd.jupyter.widget-view+json": {
       "version_major": 2,
       "version_minor": 0,
       "model_id": "07839097dd5d4aa2b288243956eefae1"
      }
     },
     "metadata": {}
    },
    {
     "output_type": "display_data",
     "data": {
      "text/plain": "Batches:   0%|          | 0/1 [00:00<?, ?it/s]",
      "application/vnd.jupyter.widget-view+json": {
       "version_major": 2,
       "version_minor": 0,
       "model_id": "486a24a35686461a939fd7d711f4266f"
      }
     },
     "metadata": {}
    },
    {
     "name": "stderr",
     "text": " 37%|███▋      | 37/100 [00:12<00:16,  3.73it/s]",
     "output_type": "stream"
    },
    {
     "output_type": "display_data",
     "data": {
      "text/plain": "Batches:   0%|          | 0/1 [00:00<?, ?it/s]",
      "application/vnd.jupyter.widget-view+json": {
       "version_major": 2,
       "version_minor": 0,
       "model_id": "35b69b4dc9d645479a58e10f80c7038f"
      }
     },
     "metadata": {}
    },
    {
     "output_type": "display_data",
     "data": {
      "text/plain": "Batches:   0%|          | 0/1 [00:00<?, ?it/s]",
      "application/vnd.jupyter.widget-view+json": {
       "version_major": 2,
       "version_minor": 0,
       "model_id": "cce173270b5543c599ca273b3d4c5d73"
      }
     },
     "metadata": {}
    },
    {
     "name": "stderr",
     "text": " 38%|███▊      | 38/100 [00:12<00:17,  3.49it/s]",
     "output_type": "stream"
    },
    {
     "output_type": "display_data",
     "data": {
      "text/plain": "Batches:   0%|          | 0/1 [00:00<?, ?it/s]",
      "application/vnd.jupyter.widget-view+json": {
       "version_major": 2,
       "version_minor": 0,
       "model_id": "5fb8255256ed4921a497057af4b05883"
      }
     },
     "metadata": {}
    },
    {
     "output_type": "display_data",
     "data": {
      "text/plain": "Batches:   0%|          | 0/1 [00:00<?, ?it/s]",
      "application/vnd.jupyter.widget-view+json": {
       "version_major": 2,
       "version_minor": 0,
       "model_id": "f67ef99ebdbe4504b010e15bf0d8b9bf"
      }
     },
     "metadata": {}
    },
    {
     "name": "stderr",
     "text": " 39%|███▉      | 39/100 [00:13<00:16,  3.62it/s]",
     "output_type": "stream"
    },
    {
     "output_type": "display_data",
     "data": {
      "text/plain": "Batches:   0%|          | 0/1 [00:00<?, ?it/s]",
      "application/vnd.jupyter.widget-view+json": {
       "version_major": 2,
       "version_minor": 0,
       "model_id": "126e276551ad43a48ce19f0d6da46f83"
      }
     },
     "metadata": {}
    },
    {
     "output_type": "display_data",
     "data": {
      "text/plain": "Batches:   0%|          | 0/1 [00:00<?, ?it/s]",
      "application/vnd.jupyter.widget-view+json": {
       "version_major": 2,
       "version_minor": 0,
       "model_id": "294fd0957ac3472789d83d2b8917d789"
      }
     },
     "metadata": {}
    },
    {
     "name": "stderr",
     "text": " 40%|████      | 40/100 [00:13<00:17,  3.51it/s]",
     "output_type": "stream"
    },
    {
     "output_type": "display_data",
     "data": {
      "text/plain": "Batches:   0%|          | 0/1 [00:00<?, ?it/s]",
      "application/vnd.jupyter.widget-view+json": {
       "version_major": 2,
       "version_minor": 0,
       "model_id": "32e0c7e8647e40b19d1c8850225f9729"
      }
     },
     "metadata": {}
    },
    {
     "output_type": "display_data",
     "data": {
      "text/plain": "Batches:   0%|          | 0/1 [00:00<?, ?it/s]",
      "application/vnd.jupyter.widget-view+json": {
       "version_major": 2,
       "version_minor": 0,
       "model_id": "976753163342490aa31660f5b9b33e0f"
      }
     },
     "metadata": {}
    },
    {
     "name": "stderr",
     "text": " 41%|████      | 41/100 [00:13<00:16,  3.48it/s]",
     "output_type": "stream"
    },
    {
     "output_type": "display_data",
     "data": {
      "text/plain": "Batches:   0%|          | 0/1 [00:00<?, ?it/s]",
      "application/vnd.jupyter.widget-view+json": {
       "version_major": 2,
       "version_minor": 0,
       "model_id": "23a3f794c97046178aefc6e04f335669"
      }
     },
     "metadata": {}
    },
    {
     "output_type": "display_data",
     "data": {
      "text/plain": "Batches:   0%|          | 0/1 [00:00<?, ?it/s]",
      "application/vnd.jupyter.widget-view+json": {
       "version_major": 2,
       "version_minor": 0,
       "model_id": "becff3744ffd4f1dba99d1ed90870685"
      }
     },
     "metadata": {}
    },
    {
     "name": "stderr",
     "text": " 42%|████▏     | 42/100 [00:14<00:16,  3.49it/s]",
     "output_type": "stream"
    },
    {
     "output_type": "display_data",
     "data": {
      "text/plain": "Batches:   0%|          | 0/1 [00:00<?, ?it/s]",
      "application/vnd.jupyter.widget-view+json": {
       "version_major": 2,
       "version_minor": 0,
       "model_id": "b9e5856220324208b1ff59044ad5a652"
      }
     },
     "metadata": {}
    },
    {
     "output_type": "display_data",
     "data": {
      "text/plain": "Batches:   0%|          | 0/1 [00:00<?, ?it/s]",
      "application/vnd.jupyter.widget-view+json": {
       "version_major": 2,
       "version_minor": 0,
       "model_id": "bab766277a744214a436da524d4d62cd"
      }
     },
     "metadata": {}
    },
    {
     "name": "stderr",
     "text": " 43%|████▎     | 43/100 [00:14<00:15,  3.77it/s]",
     "output_type": "stream"
    },
    {
     "output_type": "display_data",
     "data": {
      "text/plain": "Batches:   0%|          | 0/1 [00:00<?, ?it/s]",
      "application/vnd.jupyter.widget-view+json": {
       "version_major": 2,
       "version_minor": 0,
       "model_id": "99db27369b7045be8b292f60a3516341"
      }
     },
     "metadata": {}
    },
    {
     "output_type": "display_data",
     "data": {
      "text/plain": "Batches:   0%|          | 0/1 [00:00<?, ?it/s]",
      "application/vnd.jupyter.widget-view+json": {
       "version_major": 2,
       "version_minor": 0,
       "model_id": "ff75ac58c4a442eba0d78bc742fe51a9"
      }
     },
     "metadata": {}
    },
    {
     "name": "stderr",
     "text": " 44%|████▍     | 44/100 [00:14<00:15,  3.59it/s]",
     "output_type": "stream"
    },
    {
     "output_type": "display_data",
     "data": {
      "text/plain": "Batches:   0%|          | 0/1 [00:00<?, ?it/s]",
      "application/vnd.jupyter.widget-view+json": {
       "version_major": 2,
       "version_minor": 0,
       "model_id": "d97b061db44746a3b91c0ae0a5dbce36"
      }
     },
     "metadata": {}
    },
    {
     "output_type": "display_data",
     "data": {
      "text/plain": "Batches:   0%|          | 0/1 [00:00<?, ?it/s]",
      "application/vnd.jupyter.widget-view+json": {
       "version_major": 2,
       "version_minor": 0,
       "model_id": "38fac825c4034c1189018b6c883974a2"
      }
     },
     "metadata": {}
    },
    {
     "name": "stderr",
     "text": " 45%|████▌     | 45/100 [00:14<00:14,  3.77it/s]",
     "output_type": "stream"
    },
    {
     "output_type": "display_data",
     "data": {
      "text/plain": "Batches:   0%|          | 0/1 [00:00<?, ?it/s]",
      "application/vnd.jupyter.widget-view+json": {
       "version_major": 2,
       "version_minor": 0,
       "model_id": "0818560475f14c0b9742b8b77676ebbc"
      }
     },
     "metadata": {}
    },
    {
     "output_type": "display_data",
     "data": {
      "text/plain": "Batches:   0%|          | 0/1 [00:00<?, ?it/s]",
      "application/vnd.jupyter.widget-view+json": {
       "version_major": 2,
       "version_minor": 0,
       "model_id": "2e216eedcc714179a2c3d777f7794a07"
      }
     },
     "metadata": {}
    },
    {
     "name": "stderr",
     "text": " 46%|████▌     | 46/100 [00:15<00:13,  3.92it/s]",
     "output_type": "stream"
    },
    {
     "output_type": "display_data",
     "data": {
      "text/plain": "Batches:   0%|          | 0/1 [00:00<?, ?it/s]",
      "application/vnd.jupyter.widget-view+json": {
       "version_major": 2,
       "version_minor": 0,
       "model_id": "e16c7c809ec041a093eddf67feb908aa"
      }
     },
     "metadata": {}
    },
    {
     "output_type": "display_data",
     "data": {
      "text/plain": "Batches:   0%|          | 0/1 [00:00<?, ?it/s]",
      "application/vnd.jupyter.widget-view+json": {
       "version_major": 2,
       "version_minor": 0,
       "model_id": "98500bc1d3c44695842e494492b941fe"
      }
     },
     "metadata": {}
    },
    {
     "name": "stderr",
     "text": " 47%|████▋     | 47/100 [00:15<00:12,  4.08it/s]",
     "output_type": "stream"
    },
    {
     "output_type": "display_data",
     "data": {
      "text/plain": "Batches:   0%|          | 0/1 [00:00<?, ?it/s]",
      "application/vnd.jupyter.widget-view+json": {
       "version_major": 2,
       "version_minor": 0,
       "model_id": "64dba926478949b2bd2c326d24cb5ece"
      }
     },
     "metadata": {}
    },
    {
     "output_type": "display_data",
     "data": {
      "text/plain": "Batches:   0%|          | 0/1 [00:00<?, ?it/s]",
      "application/vnd.jupyter.widget-view+json": {
       "version_major": 2,
       "version_minor": 0,
       "model_id": "5f0cd4f3951148c6b5c47ce1925b8e05"
      }
     },
     "metadata": {}
    },
    {
     "name": "stderr",
     "text": " 48%|████▊     | 48/100 [00:15<00:12,  4.08it/s]",
     "output_type": "stream"
    },
    {
     "output_type": "display_data",
     "data": {
      "text/plain": "Batches:   0%|          | 0/1 [00:00<?, ?it/s]",
      "application/vnd.jupyter.widget-view+json": {
       "version_major": 2,
       "version_minor": 0,
       "model_id": "1637cc46f5964ff2b268864bf8e516ff"
      }
     },
     "metadata": {}
    },
    {
     "output_type": "display_data",
     "data": {
      "text/plain": "Batches:   0%|          | 0/1 [00:00<?, ?it/s]",
      "application/vnd.jupyter.widget-view+json": {
       "version_major": 2,
       "version_minor": 0,
       "model_id": "0c5fecf12ad4427aa2650ae5aba59445"
      }
     },
     "metadata": {}
    },
    {
     "name": "stderr",
     "text": " 49%|████▉     | 49/100 [00:15<00:12,  3.95it/s]",
     "output_type": "stream"
    },
    {
     "output_type": "display_data",
     "data": {
      "text/plain": "Batches:   0%|          | 0/1 [00:00<?, ?it/s]",
      "application/vnd.jupyter.widget-view+json": {
       "version_major": 2,
       "version_minor": 0,
       "model_id": "066b76877b0e40ed93edf911e1941de9"
      }
     },
     "metadata": {}
    },
    {
     "output_type": "display_data",
     "data": {
      "text/plain": "Batches:   0%|          | 0/1 [00:00<?, ?it/s]",
      "application/vnd.jupyter.widget-view+json": {
       "version_major": 2,
       "version_minor": 0,
       "model_id": "9f86546118d4431bb87e7e0fd9f46375"
      }
     },
     "metadata": {}
    },
    {
     "name": "stderr",
     "text": " 50%|█████     | 50/100 [00:16<00:12,  3.97it/s]",
     "output_type": "stream"
    },
    {
     "output_type": "display_data",
     "data": {
      "text/plain": "Batches:   0%|          | 0/1 [00:00<?, ?it/s]",
      "application/vnd.jupyter.widget-view+json": {
       "version_major": 2,
       "version_minor": 0,
       "model_id": "e929dd6b36c24e62b65be135f6a7fd2d"
      }
     },
     "metadata": {}
    },
    {
     "output_type": "display_data",
     "data": {
      "text/plain": "Batches:   0%|          | 0/1 [00:00<?, ?it/s]",
      "application/vnd.jupyter.widget-view+json": {
       "version_major": 2,
       "version_minor": 0,
       "model_id": "257e434dfda74aa4b602ce6ba7d2c1e6"
      }
     },
     "metadata": {}
    },
    {
     "name": "stderr",
     "text": " 51%|█████     | 51/100 [00:16<00:12,  4.04it/s]",
     "output_type": "stream"
    },
    {
     "output_type": "display_data",
     "data": {
      "text/plain": "Batches:   0%|          | 0/1 [00:00<?, ?it/s]",
      "application/vnd.jupyter.widget-view+json": {
       "version_major": 2,
       "version_minor": 0,
       "model_id": "d954d76dc9064a90aabb46c51188132d"
      }
     },
     "metadata": {}
    },
    {
     "output_type": "display_data",
     "data": {
      "text/plain": "Batches:   0%|          | 0/1 [00:00<?, ?it/s]",
      "application/vnd.jupyter.widget-view+json": {
       "version_major": 2,
       "version_minor": 0,
       "model_id": "676f6b00bab24093bd16f5c35f84ee13"
      }
     },
     "metadata": {}
    },
    {
     "name": "stderr",
     "text": " 52%|█████▏    | 52/100 [00:16<00:11,  4.20it/s]",
     "output_type": "stream"
    },
    {
     "output_type": "display_data",
     "data": {
      "text/plain": "Batches:   0%|          | 0/1 [00:00<?, ?it/s]",
      "application/vnd.jupyter.widget-view+json": {
       "version_major": 2,
       "version_minor": 0,
       "model_id": "c97c069b0f2347d288545f490443c0bf"
      }
     },
     "metadata": {}
    },
    {
     "output_type": "display_data",
     "data": {
      "text/plain": "Batches:   0%|          | 0/1 [00:00<?, ?it/s]",
      "application/vnd.jupyter.widget-view+json": {
       "version_major": 2,
       "version_minor": 0,
       "model_id": "5497b5bf4f0d48a3a1e9407409e6350b"
      }
     },
     "metadata": {}
    },
    {
     "name": "stderr",
     "text": " 53%|█████▎    | 53/100 [00:16<00:11,  4.15it/s]",
     "output_type": "stream"
    },
    {
     "output_type": "display_data",
     "data": {
      "text/plain": "Batches:   0%|          | 0/1 [00:00<?, ?it/s]",
      "application/vnd.jupyter.widget-view+json": {
       "version_major": 2,
       "version_minor": 0,
       "model_id": "579be4b1e4ee4597aac6a5245858cc8b"
      }
     },
     "metadata": {}
    },
    {
     "output_type": "display_data",
     "data": {
      "text/plain": "Batches:   0%|          | 0/1 [00:00<?, ?it/s]",
      "application/vnd.jupyter.widget-view+json": {
       "version_major": 2,
       "version_minor": 0,
       "model_id": "046e0aadf95540bb97ce80a93ad0d1ae"
      }
     },
     "metadata": {}
    },
    {
     "name": "stderr",
     "text": " 54%|█████▍    | 54/100 [00:17<00:11,  4.10it/s]",
     "output_type": "stream"
    },
    {
     "output_type": "display_data",
     "data": {
      "text/plain": "Batches:   0%|          | 0/1 [00:00<?, ?it/s]",
      "application/vnd.jupyter.widget-view+json": {
       "version_major": 2,
       "version_minor": 0,
       "model_id": "7009cbbbf8b447fcab7349e3586346f6"
      }
     },
     "metadata": {}
    },
    {
     "output_type": "display_data",
     "data": {
      "text/plain": "Batches:   0%|          | 0/1 [00:00<?, ?it/s]",
      "application/vnd.jupyter.widget-view+json": {
       "version_major": 2,
       "version_minor": 0,
       "model_id": "9d6159637bb141f0af9491a6cf7b2314"
      }
     },
     "metadata": {}
    },
    {
     "name": "stderr",
     "text": " 55%|█████▌    | 55/100 [00:17<00:11,  4.03it/s]",
     "output_type": "stream"
    },
    {
     "output_type": "display_data",
     "data": {
      "text/plain": "Batches:   0%|          | 0/1 [00:00<?, ?it/s]",
      "application/vnd.jupyter.widget-view+json": {
       "version_major": 2,
       "version_minor": 0,
       "model_id": "d2f5c8c99c1448c3ab88f5ac398b91ab"
      }
     },
     "metadata": {}
    },
    {
     "output_type": "display_data",
     "data": {
      "text/plain": "Batches:   0%|          | 0/1 [00:00<?, ?it/s]",
      "application/vnd.jupyter.widget-view+json": {
       "version_major": 2,
       "version_minor": 0,
       "model_id": "be7766a88ef34d709e3d1c5fd0a5b76b"
      }
     },
     "metadata": {}
    },
    {
     "name": "stderr",
     "text": " 56%|█████▌    | 56/100 [00:17<00:10,  4.05it/s]",
     "output_type": "stream"
    },
    {
     "output_type": "display_data",
     "data": {
      "text/plain": "Batches:   0%|          | 0/1 [00:00<?, ?it/s]",
      "application/vnd.jupyter.widget-view+json": {
       "version_major": 2,
       "version_minor": 0,
       "model_id": "47b876cf5a014d169439409b460e28f2"
      }
     },
     "metadata": {}
    },
    {
     "output_type": "display_data",
     "data": {
      "text/plain": "Batches:   0%|          | 0/1 [00:00<?, ?it/s]",
      "application/vnd.jupyter.widget-view+json": {
       "version_major": 2,
       "version_minor": 0,
       "model_id": "f579f7bbcf9a481981d53930663d2f94"
      }
     },
     "metadata": {}
    },
    {
     "name": "stderr",
     "text": " 57%|█████▋    | 57/100 [00:17<00:10,  4.19it/s]",
     "output_type": "stream"
    },
    {
     "output_type": "display_data",
     "data": {
      "text/plain": "Batches:   0%|          | 0/1 [00:00<?, ?it/s]",
      "application/vnd.jupyter.widget-view+json": {
       "version_major": 2,
       "version_minor": 0,
       "model_id": "7184ff1e58dd4544964839c77f6e7f8e"
      }
     },
     "metadata": {}
    },
    {
     "output_type": "display_data",
     "data": {
      "text/plain": "Batches:   0%|          | 0/1 [00:00<?, ?it/s]",
      "application/vnd.jupyter.widget-view+json": {
       "version_major": 2,
       "version_minor": 0,
       "model_id": "4cb00e3deb9949d58e302f2da66189a2"
      }
     },
     "metadata": {}
    },
    {
     "name": "stderr",
     "text": " 58%|█████▊    | 58/100 [00:18<00:10,  4.04it/s]",
     "output_type": "stream"
    },
    {
     "output_type": "display_data",
     "data": {
      "text/plain": "Batches:   0%|          | 0/1 [00:00<?, ?it/s]",
      "application/vnd.jupyter.widget-view+json": {
       "version_major": 2,
       "version_minor": 0,
       "model_id": "0b03e1723ebe45b7b1e79a1c151558e1"
      }
     },
     "metadata": {}
    },
    {
     "output_type": "display_data",
     "data": {
      "text/plain": "Batches:   0%|          | 0/1 [00:00<?, ?it/s]",
      "application/vnd.jupyter.widget-view+json": {
       "version_major": 2,
       "version_minor": 0,
       "model_id": "785f3bed0ae44954be2047ce54364f8a"
      }
     },
     "metadata": {}
    },
    {
     "name": "stderr",
     "text": " 59%|█████▉    | 59/100 [00:18<00:10,  3.81it/s]",
     "output_type": "stream"
    },
    {
     "output_type": "display_data",
     "data": {
      "text/plain": "Batches:   0%|          | 0/1 [00:00<?, ?it/s]",
      "application/vnd.jupyter.widget-view+json": {
       "version_major": 2,
       "version_minor": 0,
       "model_id": "f49ea5f0ca6f47d2a0ada0cfc993531a"
      }
     },
     "metadata": {}
    },
    {
     "output_type": "display_data",
     "data": {
      "text/plain": "Batches:   0%|          | 0/1 [00:00<?, ?it/s]",
      "application/vnd.jupyter.widget-view+json": {
       "version_major": 2,
       "version_minor": 0,
       "model_id": "d9e6a2483a8049ac893d8a4c589f6f08"
      }
     },
     "metadata": {}
    },
    {
     "name": "stderr",
     "text": " 60%|██████    | 60/100 [00:18<00:10,  3.91it/s]",
     "output_type": "stream"
    },
    {
     "output_type": "display_data",
     "data": {
      "text/plain": "Batches:   0%|          | 0/1 [00:00<?, ?it/s]",
      "application/vnd.jupyter.widget-view+json": {
       "version_major": 2,
       "version_minor": 0,
       "model_id": "2c5ffff93a5347dda5ae536b79f8500a"
      }
     },
     "metadata": {}
    },
    {
     "output_type": "display_data",
     "data": {
      "text/plain": "Batches:   0%|          | 0/1 [00:00<?, ?it/s]",
      "application/vnd.jupyter.widget-view+json": {
       "version_major": 2,
       "version_minor": 0,
       "model_id": "2432bbdf6fa944979f1d6a457132ba89"
      }
     },
     "metadata": {}
    },
    {
     "name": "stderr",
     "text": " 61%|██████    | 61/100 [00:18<00:09,  3.93it/s]",
     "output_type": "stream"
    },
    {
     "output_type": "display_data",
     "data": {
      "text/plain": "Batches:   0%|          | 0/1 [00:00<?, ?it/s]",
      "application/vnd.jupyter.widget-view+json": {
       "version_major": 2,
       "version_minor": 0,
       "model_id": "a597161ca41c416082d5aeb289293ac5"
      }
     },
     "metadata": {}
    },
    {
     "output_type": "display_data",
     "data": {
      "text/plain": "Batches:   0%|          | 0/1 [00:00<?, ?it/s]",
      "application/vnd.jupyter.widget-view+json": {
       "version_major": 2,
       "version_minor": 0,
       "model_id": "1219de8609bc46c8864df0abbc83e37b"
      }
     },
     "metadata": {}
    },
    {
     "name": "stderr",
     "text": " 62%|██████▏   | 62/100 [00:19<00:09,  4.09it/s]",
     "output_type": "stream"
    },
    {
     "output_type": "display_data",
     "data": {
      "text/plain": "Batches:   0%|          | 0/1 [00:00<?, ?it/s]",
      "application/vnd.jupyter.widget-view+json": {
       "version_major": 2,
       "version_minor": 0,
       "model_id": "27bb8970708c468d954230c8c51a7157"
      }
     },
     "metadata": {}
    },
    {
     "output_type": "display_data",
     "data": {
      "text/plain": "Batches:   0%|          | 0/1 [00:00<?, ?it/s]",
      "application/vnd.jupyter.widget-view+json": {
       "version_major": 2,
       "version_minor": 0,
       "model_id": "5d0e90dc3c9b44f08e89d171ad6a72d5"
      }
     },
     "metadata": {}
    },
    {
     "name": "stderr",
     "text": " 63%|██████▎   | 63/100 [00:19<00:09,  4.06it/s]",
     "output_type": "stream"
    },
    {
     "output_type": "display_data",
     "data": {
      "text/plain": "Batches:   0%|          | 0/1 [00:00<?, ?it/s]",
      "application/vnd.jupyter.widget-view+json": {
       "version_major": 2,
       "version_minor": 0,
       "model_id": "31c42950ddbf4d39b28917ba18b79e0c"
      }
     },
     "metadata": {}
    },
    {
     "output_type": "display_data",
     "data": {
      "text/plain": "Batches:   0%|          | 0/1 [00:00<?, ?it/s]",
      "application/vnd.jupyter.widget-view+json": {
       "version_major": 2,
       "version_minor": 0,
       "model_id": "b93c76ce92ec433989c32d648d7fbc6f"
      }
     },
     "metadata": {}
    },
    {
     "name": "stderr",
     "text": " 64%|██████▍   | 64/100 [00:19<00:08,  4.25it/s]",
     "output_type": "stream"
    },
    {
     "output_type": "display_data",
     "data": {
      "text/plain": "Batches:   0%|          | 0/1 [00:00<?, ?it/s]",
      "application/vnd.jupyter.widget-view+json": {
       "version_major": 2,
       "version_minor": 0,
       "model_id": "e085ec23bbe041ecbd4810373072703e"
      }
     },
     "metadata": {}
    },
    {
     "output_type": "display_data",
     "data": {
      "text/plain": "Batches:   0%|          | 0/1 [00:00<?, ?it/s]",
      "application/vnd.jupyter.widget-view+json": {
       "version_major": 2,
       "version_minor": 0,
       "model_id": "600f0b9ff1c14ea1a1cd563ade52a02d"
      }
     },
     "metadata": {}
    },
    {
     "name": "stderr",
     "text": " 65%|██████▌   | 65/100 [00:19<00:08,  3.96it/s]",
     "output_type": "stream"
    },
    {
     "output_type": "display_data",
     "data": {
      "text/plain": "Batches:   0%|          | 0/1 [00:00<?, ?it/s]",
      "application/vnd.jupyter.widget-view+json": {
       "version_major": 2,
       "version_minor": 0,
       "model_id": "7eec0eab258241e8890ae9e264643658"
      }
     },
     "metadata": {}
    },
    {
     "output_type": "display_data",
     "data": {
      "text/plain": "Batches:   0%|          | 0/1 [00:00<?, ?it/s]",
      "application/vnd.jupyter.widget-view+json": {
       "version_major": 2,
       "version_minor": 0,
       "model_id": "ce1d5c62f2bd457ebddc0a68b8a5066f"
      }
     },
     "metadata": {}
    },
    {
     "name": "stderr",
     "text": " 66%|██████▌   | 66/100 [00:20<00:08,  4.07it/s]",
     "output_type": "stream"
    },
    {
     "output_type": "display_data",
     "data": {
      "text/plain": "Batches:   0%|          | 0/1 [00:00<?, ?it/s]",
      "application/vnd.jupyter.widget-view+json": {
       "version_major": 2,
       "version_minor": 0,
       "model_id": "985ac5b2085242759f26e131a0afac3c"
      }
     },
     "metadata": {}
    },
    {
     "output_type": "display_data",
     "data": {
      "text/plain": "Batches:   0%|          | 0/1 [00:00<?, ?it/s]",
      "application/vnd.jupyter.widget-view+json": {
       "version_major": 2,
       "version_minor": 0,
       "model_id": "290467fd6a10411c87832a7da7d9bade"
      }
     },
     "metadata": {}
    },
    {
     "name": "stderr",
     "text": " 67%|██████▋   | 67/100 [00:20<00:08,  4.09it/s]",
     "output_type": "stream"
    },
    {
     "output_type": "display_data",
     "data": {
      "text/plain": "Batches:   0%|          | 0/1 [00:00<?, ?it/s]",
      "application/vnd.jupyter.widget-view+json": {
       "version_major": 2,
       "version_minor": 0,
       "model_id": "0f6d703c47254aa6aee77428caaac0b6"
      }
     },
     "metadata": {}
    },
    {
     "output_type": "display_data",
     "data": {
      "text/plain": "Batches:   0%|          | 0/1 [00:00<?, ?it/s]",
      "application/vnd.jupyter.widget-view+json": {
       "version_major": 2,
       "version_minor": 0,
       "model_id": "d9678b1d4e8948df99b5cd40f1d64391"
      }
     },
     "metadata": {}
    },
    {
     "name": "stderr",
     "text": " 68%|██████▊   | 68/100 [00:20<00:08,  3.88it/s]",
     "output_type": "stream"
    },
    {
     "output_type": "display_data",
     "data": {
      "text/plain": "Batches:   0%|          | 0/1 [00:00<?, ?it/s]",
      "application/vnd.jupyter.widget-view+json": {
       "version_major": 2,
       "version_minor": 0,
       "model_id": "eca723cb816e4eaea5e742c999d9233f"
      }
     },
     "metadata": {}
    },
    {
     "output_type": "display_data",
     "data": {
      "text/plain": "Batches:   0%|          | 0/1 [00:00<?, ?it/s]",
      "application/vnd.jupyter.widget-view+json": {
       "version_major": 2,
       "version_minor": 0,
       "model_id": "17f90c1d57634de6ab2795d8adf0e02e"
      }
     },
     "metadata": {}
    },
    {
     "name": "stderr",
     "text": " 69%|██████▉   | 69/100 [00:20<00:07,  3.88it/s]",
     "output_type": "stream"
    },
    {
     "output_type": "display_data",
     "data": {
      "text/plain": "Batches:   0%|          | 0/1 [00:00<?, ?it/s]",
      "application/vnd.jupyter.widget-view+json": {
       "version_major": 2,
       "version_minor": 0,
       "model_id": "df06524f7d04405bb28a2ce6896eaac8"
      }
     },
     "metadata": {}
    },
    {
     "output_type": "display_data",
     "data": {
      "text/plain": "Batches:   0%|          | 0/1 [00:00<?, ?it/s]",
      "application/vnd.jupyter.widget-view+json": {
       "version_major": 2,
       "version_minor": 0,
       "model_id": "d01bdc62edd2484796ac7eefc271969b"
      }
     },
     "metadata": {}
    },
    {
     "name": "stderr",
     "text": " 70%|███████   | 70/100 [00:21<00:07,  4.03it/s]",
     "output_type": "stream"
    },
    {
     "output_type": "display_data",
     "data": {
      "text/plain": "Batches:   0%|          | 0/1 [00:00<?, ?it/s]",
      "application/vnd.jupyter.widget-view+json": {
       "version_major": 2,
       "version_minor": 0,
       "model_id": "e1de4db505234426a0b4e628a9023ecb"
      }
     },
     "metadata": {}
    },
    {
     "output_type": "display_data",
     "data": {
      "text/plain": "Batches:   0%|          | 0/1 [00:00<?, ?it/s]",
      "application/vnd.jupyter.widget-view+json": {
       "version_major": 2,
       "version_minor": 0,
       "model_id": "213c36dbd25d4d69b43c0c87944a6b63"
      }
     },
     "metadata": {}
    },
    {
     "name": "stderr",
     "text": " 71%|███████   | 71/100 [00:21<00:07,  4.10it/s]",
     "output_type": "stream"
    },
    {
     "output_type": "display_data",
     "data": {
      "text/plain": "Batches:   0%|          | 0/1 [00:00<?, ?it/s]",
      "application/vnd.jupyter.widget-view+json": {
       "version_major": 2,
       "version_minor": 0,
       "model_id": "13fb5c68aefe4331bdfd9898c16e82f4"
      }
     },
     "metadata": {}
    },
    {
     "output_type": "display_data",
     "data": {
      "text/plain": "Batches:   0%|          | 0/1 [00:00<?, ?it/s]",
      "application/vnd.jupyter.widget-view+json": {
       "version_major": 2,
       "version_minor": 0,
       "model_id": "c85ee600e62a41ccb8f64a6e3723e991"
      }
     },
     "metadata": {}
    },
    {
     "name": "stderr",
     "text": " 72%|███████▏  | 72/100 [00:21<00:07,  3.92it/s]",
     "output_type": "stream"
    },
    {
     "output_type": "display_data",
     "data": {
      "text/plain": "Batches:   0%|          | 0/1 [00:00<?, ?it/s]",
      "application/vnd.jupyter.widget-view+json": {
       "version_major": 2,
       "version_minor": 0,
       "model_id": "0b114a59df0343a3addd076755fa9b13"
      }
     },
     "metadata": {}
    },
    {
     "output_type": "display_data",
     "data": {
      "text/plain": "Batches:   0%|          | 0/1 [00:00<?, ?it/s]",
      "application/vnd.jupyter.widget-view+json": {
       "version_major": 2,
       "version_minor": 0,
       "model_id": "834c03513b0849c7b603644070a17ffe"
      }
     },
     "metadata": {}
    },
    {
     "name": "stderr",
     "text": " 73%|███████▎  | 73/100 [00:21<00:06,  3.94it/s]",
     "output_type": "stream"
    },
    {
     "output_type": "display_data",
     "data": {
      "text/plain": "Batches:   0%|          | 0/1 [00:00<?, ?it/s]",
      "application/vnd.jupyter.widget-view+json": {
       "version_major": 2,
       "version_minor": 0,
       "model_id": "02e8fc424e4b4b32b50375b59d69d39c"
      }
     },
     "metadata": {}
    },
    {
     "output_type": "display_data",
     "data": {
      "text/plain": "Batches:   0%|          | 0/1 [00:00<?, ?it/s]",
      "application/vnd.jupyter.widget-view+json": {
       "version_major": 2,
       "version_minor": 0,
       "model_id": "d9a65f4fe08e4b1dbf696c57ff0e2ce8"
      }
     },
     "metadata": {}
    },
    {
     "name": "stderr",
     "text": " 74%|███████▍  | 74/100 [00:22<00:06,  3.77it/s]",
     "output_type": "stream"
    },
    {
     "output_type": "display_data",
     "data": {
      "text/plain": "Batches:   0%|          | 0/1 [00:00<?, ?it/s]",
      "application/vnd.jupyter.widget-view+json": {
       "version_major": 2,
       "version_minor": 0,
       "model_id": "e52249e4c6fa43e1b4b5ebe94acf6263"
      }
     },
     "metadata": {}
    },
    {
     "output_type": "display_data",
     "data": {
      "text/plain": "Batches:   0%|          | 0/1 [00:00<?, ?it/s]",
      "application/vnd.jupyter.widget-view+json": {
       "version_major": 2,
       "version_minor": 0,
       "model_id": "cf3d09ea7617411085e11973c822c8a0"
      }
     },
     "metadata": {}
    },
    {
     "name": "stderr",
     "text": " 75%|███████▌  | 75/100 [00:22<00:06,  3.72it/s]",
     "output_type": "stream"
    },
    {
     "output_type": "display_data",
     "data": {
      "text/plain": "Batches:   0%|          | 0/1 [00:00<?, ?it/s]",
      "application/vnd.jupyter.widget-view+json": {
       "version_major": 2,
       "version_minor": 0,
       "model_id": "ff5b7445c33b4283a375af3e86644699"
      }
     },
     "metadata": {}
    },
    {
     "output_type": "display_data",
     "data": {
      "text/plain": "Batches:   0%|          | 0/1 [00:00<?, ?it/s]",
      "application/vnd.jupyter.widget-view+json": {
       "version_major": 2,
       "version_minor": 0,
       "model_id": "714648b84dbb499d8f1a60b8c607f6b0"
      }
     },
     "metadata": {}
    },
    {
     "name": "stderr",
     "text": " 76%|███████▌  | 76/100 [00:22<00:06,  3.76it/s]",
     "output_type": "stream"
    },
    {
     "output_type": "display_data",
     "data": {
      "text/plain": "Batches:   0%|          | 0/1 [00:00<?, ?it/s]",
      "application/vnd.jupyter.widget-view+json": {
       "version_major": 2,
       "version_minor": 0,
       "model_id": "fcddff544f7a414cb2e214f42e850db6"
      }
     },
     "metadata": {}
    },
    {
     "output_type": "display_data",
     "data": {
      "text/plain": "Batches:   0%|          | 0/1 [00:00<?, ?it/s]",
      "application/vnd.jupyter.widget-view+json": {
       "version_major": 2,
       "version_minor": 0,
       "model_id": "4b8e819e006c4d16bef4e8724bc56db2"
      }
     },
     "metadata": {}
    },
    {
     "name": "stderr",
     "text": " 77%|███████▋  | 77/100 [00:22<00:06,  3.73it/s]",
     "output_type": "stream"
    },
    {
     "output_type": "display_data",
     "data": {
      "text/plain": "Batches:   0%|          | 0/1 [00:00<?, ?it/s]",
      "application/vnd.jupyter.widget-view+json": {
       "version_major": 2,
       "version_minor": 0,
       "model_id": "61f8f225c7e845f0bcde7befc15408c4"
      }
     },
     "metadata": {}
    },
    {
     "output_type": "display_data",
     "data": {
      "text/plain": "Batches:   0%|          | 0/1 [00:00<?, ?it/s]",
      "application/vnd.jupyter.widget-view+json": {
       "version_major": 2,
       "version_minor": 0,
       "model_id": "be74ac3eaf904dbd9a5708e6e68d4a1d"
      }
     },
     "metadata": {}
    },
    {
     "name": "stderr",
     "text": " 78%|███████▊  | 78/100 [00:23<00:05,  4.02it/s]",
     "output_type": "stream"
    },
    {
     "output_type": "display_data",
     "data": {
      "text/plain": "Batches:   0%|          | 0/1 [00:00<?, ?it/s]",
      "application/vnd.jupyter.widget-view+json": {
       "version_major": 2,
       "version_minor": 0,
       "model_id": "3ec22d871d2c494d86f1947ea2b0c97e"
      }
     },
     "metadata": {}
    },
    {
     "output_type": "display_data",
     "data": {
      "text/plain": "Batches:   0%|          | 0/1 [00:00<?, ?it/s]",
      "application/vnd.jupyter.widget-view+json": {
       "version_major": 2,
       "version_minor": 0,
       "model_id": "ac0da7722ad645d7bd7aeff1f6244e57"
      }
     },
     "metadata": {}
    },
    {
     "name": "stderr",
     "text": " 79%|███████▉  | 79/100 [00:23<00:04,  4.27it/s]",
     "output_type": "stream"
    },
    {
     "output_type": "display_data",
     "data": {
      "text/plain": "Batches:   0%|          | 0/1 [00:00<?, ?it/s]",
      "application/vnd.jupyter.widget-view+json": {
       "version_major": 2,
       "version_minor": 0,
       "model_id": "1b909cd4806e4c829814e6ce8af096c9"
      }
     },
     "metadata": {}
    },
    {
     "output_type": "display_data",
     "data": {
      "text/plain": "Batches:   0%|          | 0/1 [00:00<?, ?it/s]",
      "application/vnd.jupyter.widget-view+json": {
       "version_major": 2,
       "version_minor": 0,
       "model_id": "1c5c64029fa7448a867fb035a584b5bc"
      }
     },
     "metadata": {}
    },
    {
     "name": "stderr",
     "text": " 80%|████████  | 80/100 [00:23<00:04,  4.77it/s]",
     "output_type": "stream"
    },
    {
     "output_type": "display_data",
     "data": {
      "text/plain": "Batches:   0%|          | 0/1 [00:00<?, ?it/s]",
      "application/vnd.jupyter.widget-view+json": {
       "version_major": 2,
       "version_minor": 0,
       "model_id": "de40e0ab8c6e4ac1a0164919a20ea837"
      }
     },
     "metadata": {}
    },
    {
     "output_type": "display_data",
     "data": {
      "text/plain": "Batches:   0%|          | 0/1 [00:00<?, ?it/s]",
      "application/vnd.jupyter.widget-view+json": {
       "version_major": 2,
       "version_minor": 0,
       "model_id": "ed41c357b32040d3999c883edd90ef0b"
      }
     },
     "metadata": {}
    },
    {
     "name": "stderr",
     "text": " 81%|████████  | 81/100 [00:23<00:04,  4.39it/s]",
     "output_type": "stream"
    },
    {
     "output_type": "display_data",
     "data": {
      "text/plain": "Batches:   0%|          | 0/1 [00:00<?, ?it/s]",
      "application/vnd.jupyter.widget-view+json": {
       "version_major": 2,
       "version_minor": 0,
       "model_id": "c495a2484f85462d93a381289c86ff92"
      }
     },
     "metadata": {}
    },
    {
     "output_type": "display_data",
     "data": {
      "text/plain": "Batches:   0%|          | 0/1 [00:00<?, ?it/s]",
      "application/vnd.jupyter.widget-view+json": {
       "version_major": 2,
       "version_minor": 0,
       "model_id": "e80c2c4c73ec44fab699ed688f6c78d1"
      }
     },
     "metadata": {}
    },
    {
     "name": "stderr",
     "text": " 82%|████████▏ | 82/100 [00:23<00:04,  4.34it/s]",
     "output_type": "stream"
    },
    {
     "output_type": "display_data",
     "data": {
      "text/plain": "Batches:   0%|          | 0/1 [00:00<?, ?it/s]",
      "application/vnd.jupyter.widget-view+json": {
       "version_major": 2,
       "version_minor": 0,
       "model_id": "9ea4dedc7e324e4ca2d34c3963e2530e"
      }
     },
     "metadata": {}
    },
    {
     "output_type": "display_data",
     "data": {
      "text/plain": "Batches:   0%|          | 0/1 [00:00<?, ?it/s]",
      "application/vnd.jupyter.widget-view+json": {
       "version_major": 2,
       "version_minor": 0,
       "model_id": "9a9658a5f6f0412da61f8906ea7de9ac"
      }
     },
     "metadata": {}
    },
    {
     "name": "stderr",
     "text": " 83%|████████▎ | 83/100 [00:24<00:03,  4.38it/s]",
     "output_type": "stream"
    },
    {
     "output_type": "display_data",
     "data": {
      "text/plain": "Batches:   0%|          | 0/1 [00:00<?, ?it/s]",
      "application/vnd.jupyter.widget-view+json": {
       "version_major": 2,
       "version_minor": 0,
       "model_id": "63b2aed2b6ab487b9ac4684bba092a47"
      }
     },
     "metadata": {}
    },
    {
     "output_type": "display_data",
     "data": {
      "text/plain": "Batches:   0%|          | 0/1 [00:00<?, ?it/s]",
      "application/vnd.jupyter.widget-view+json": {
       "version_major": 2,
       "version_minor": 0,
       "model_id": "95d23aa729ff40fd9d007439e65312c6"
      }
     },
     "metadata": {}
    },
    {
     "name": "stderr",
     "text": " 84%|████████▍ | 84/100 [00:24<00:03,  4.48it/s]",
     "output_type": "stream"
    },
    {
     "output_type": "display_data",
     "data": {
      "text/plain": "Batches:   0%|          | 0/1 [00:00<?, ?it/s]",
      "application/vnd.jupyter.widget-view+json": {
       "version_major": 2,
       "version_minor": 0,
       "model_id": "9ba8d9aa1fda477392bb3eace61f54ec"
      }
     },
     "metadata": {}
    },
    {
     "output_type": "display_data",
     "data": {
      "text/plain": "Batches:   0%|          | 0/1 [00:00<?, ?it/s]",
      "application/vnd.jupyter.widget-view+json": {
       "version_major": 2,
       "version_minor": 0,
       "model_id": "484414677a084a228cb7eca807240ff5"
      }
     },
     "metadata": {}
    },
    {
     "name": "stderr",
     "text": " 85%|████████▌ | 85/100 [00:24<00:03,  4.36it/s]",
     "output_type": "stream"
    },
    {
     "output_type": "display_data",
     "data": {
      "text/plain": "Batches:   0%|          | 0/1 [00:00<?, ?it/s]",
      "application/vnd.jupyter.widget-view+json": {
       "version_major": 2,
       "version_minor": 0,
       "model_id": "bcdc9c2d819845ebac8072189714969a"
      }
     },
     "metadata": {}
    },
    {
     "output_type": "display_data",
     "data": {
      "text/plain": "Batches:   0%|          | 0/1 [00:00<?, ?it/s]",
      "application/vnd.jupyter.widget-view+json": {
       "version_major": 2,
       "version_minor": 0,
       "model_id": "858cabbd3e35491c87a65f0b421e8a2b"
      }
     },
     "metadata": {}
    },
    {
     "name": "stderr",
     "text": " 86%|████████▌ | 86/100 [00:24<00:03,  4.43it/s]",
     "output_type": "stream"
    },
    {
     "output_type": "display_data",
     "data": {
      "text/plain": "Batches:   0%|          | 0/1 [00:00<?, ?it/s]",
      "application/vnd.jupyter.widget-view+json": {
       "version_major": 2,
       "version_minor": 0,
       "model_id": "0ac7bcfc06e74d3b9f8ce9947e326c85"
      }
     },
     "metadata": {}
    },
    {
     "output_type": "display_data",
     "data": {
      "text/plain": "Batches:   0%|          | 0/1 [00:00<?, ?it/s]",
      "application/vnd.jupyter.widget-view+json": {
       "version_major": 2,
       "version_minor": 0,
       "model_id": "dd2aaa42ada545879b202d8a88e9d8ec"
      }
     },
     "metadata": {}
    },
    {
     "name": "stderr",
     "text": " 87%|████████▋ | 87/100 [00:25<00:03,  4.18it/s]",
     "output_type": "stream"
    },
    {
     "output_type": "display_data",
     "data": {
      "text/plain": "Batches:   0%|          | 0/1 [00:00<?, ?it/s]",
      "application/vnd.jupyter.widget-view+json": {
       "version_major": 2,
       "version_minor": 0,
       "model_id": "a12da9deb274471cb765fc2647aa522c"
      }
     },
     "metadata": {}
    },
    {
     "output_type": "display_data",
     "data": {
      "text/plain": "Batches:   0%|          | 0/1 [00:00<?, ?it/s]",
      "application/vnd.jupyter.widget-view+json": {
       "version_major": 2,
       "version_minor": 0,
       "model_id": "1c720a6318ba41e384d85265521f38d3"
      }
     },
     "metadata": {}
    },
    {
     "name": "stderr",
     "text": " 88%|████████▊ | 88/100 [00:25<00:02,  4.11it/s]",
     "output_type": "stream"
    },
    {
     "output_type": "display_data",
     "data": {
      "text/plain": "Batches:   0%|          | 0/1 [00:00<?, ?it/s]",
      "application/vnd.jupyter.widget-view+json": {
       "version_major": 2,
       "version_minor": 0,
       "model_id": "db1b1a9aa46c4f33ab86333913914356"
      }
     },
     "metadata": {}
    },
    {
     "output_type": "display_data",
     "data": {
      "text/plain": "Batches:   0%|          | 0/1 [00:00<?, ?it/s]",
      "application/vnd.jupyter.widget-view+json": {
       "version_major": 2,
       "version_minor": 0,
       "model_id": "3a3ff99fe1e04c8a96e20d51120b4179"
      }
     },
     "metadata": {}
    },
    {
     "name": "stderr",
     "text": " 89%|████████▉ | 89/100 [00:25<00:02,  4.07it/s]",
     "output_type": "stream"
    },
    {
     "output_type": "display_data",
     "data": {
      "text/plain": "Batches:   0%|          | 0/1 [00:00<?, ?it/s]",
      "application/vnd.jupyter.widget-view+json": {
       "version_major": 2,
       "version_minor": 0,
       "model_id": "3319d2fa69f04379afffecfce4605f32"
      }
     },
     "metadata": {}
    },
    {
     "output_type": "display_data",
     "data": {
      "text/plain": "Batches:   0%|          | 0/1 [00:00<?, ?it/s]",
      "application/vnd.jupyter.widget-view+json": {
       "version_major": 2,
       "version_minor": 0,
       "model_id": "fbd74789cfab4cb98f52c5000ddbc468"
      }
     },
     "metadata": {}
    },
    {
     "name": "stderr",
     "text": " 90%|█████████ | 90/100 [00:25<00:02,  3.94it/s]",
     "output_type": "stream"
    },
    {
     "output_type": "display_data",
     "data": {
      "text/plain": "Batches:   0%|          | 0/1 [00:00<?, ?it/s]",
      "application/vnd.jupyter.widget-view+json": {
       "version_major": 2,
       "version_minor": 0,
       "model_id": "8249e79928534a4caec0b0e821b546fe"
      }
     },
     "metadata": {}
    },
    {
     "output_type": "display_data",
     "data": {
      "text/plain": "Batches:   0%|          | 0/1 [00:00<?, ?it/s]",
      "application/vnd.jupyter.widget-view+json": {
       "version_major": 2,
       "version_minor": 0,
       "model_id": "3fa8e0050eca461a9d3f40a7e5f30446"
      }
     },
     "metadata": {}
    },
    {
     "name": "stderr",
     "text": " 91%|█████████ | 91/100 [00:26<00:02,  3.94it/s]",
     "output_type": "stream"
    },
    {
     "output_type": "display_data",
     "data": {
      "text/plain": "Batches:   0%|          | 0/1 [00:00<?, ?it/s]",
      "application/vnd.jupyter.widget-view+json": {
       "version_major": 2,
       "version_minor": 0,
       "model_id": "a2e0d504e64c4ba0b9f111f4034d9184"
      }
     },
     "metadata": {}
    },
    {
     "output_type": "display_data",
     "data": {
      "text/plain": "Batches:   0%|          | 0/1 [00:00<?, ?it/s]",
      "application/vnd.jupyter.widget-view+json": {
       "version_major": 2,
       "version_minor": 0,
       "model_id": "c91072a1a0af4f1ca2c3b76315c00e32"
      }
     },
     "metadata": {}
    },
    {
     "name": "stderr",
     "text": " 92%|█████████▏| 92/100 [00:26<00:01,  4.18it/s]",
     "output_type": "stream"
    },
    {
     "output_type": "display_data",
     "data": {
      "text/plain": "Batches:   0%|          | 0/1 [00:00<?, ?it/s]",
      "application/vnd.jupyter.widget-view+json": {
       "version_major": 2,
       "version_minor": 0,
       "model_id": "7f6f294eda5e4d3f8c3d292b2392cff5"
      }
     },
     "metadata": {}
    },
    {
     "output_type": "display_data",
     "data": {
      "text/plain": "Batches:   0%|          | 0/1 [00:00<?, ?it/s]",
      "application/vnd.jupyter.widget-view+json": {
       "version_major": 2,
       "version_minor": 0,
       "model_id": "33bbb114363d47e09215ab4e83d52367"
      }
     },
     "metadata": {}
    },
    {
     "name": "stderr",
     "text": " 93%|█████████▎| 93/100 [00:26<00:01,  3.93it/s]",
     "output_type": "stream"
    },
    {
     "output_type": "display_data",
     "data": {
      "text/plain": "Batches:   0%|          | 0/1 [00:00<?, ?it/s]",
      "application/vnd.jupyter.widget-view+json": {
       "version_major": 2,
       "version_minor": 0,
       "model_id": "b8e5ceeb4b674571b018a29978b1bd86"
      }
     },
     "metadata": {}
    },
    {
     "output_type": "display_data",
     "data": {
      "text/plain": "Batches:   0%|          | 0/1 [00:00<?, ?it/s]",
      "application/vnd.jupyter.widget-view+json": {
       "version_major": 2,
       "version_minor": 0,
       "model_id": "2a1a7451cd9d4c12885b6f23b5976d42"
      }
     },
     "metadata": {}
    },
    {
     "name": "stderr",
     "text": " 94%|█████████▍| 94/100 [00:26<00:01,  3.97it/s]",
     "output_type": "stream"
    },
    {
     "output_type": "display_data",
     "data": {
      "text/plain": "Batches:   0%|          | 0/1 [00:00<?, ?it/s]",
      "application/vnd.jupyter.widget-view+json": {
       "version_major": 2,
       "version_minor": 0,
       "model_id": "21d1cc0cc58347538b796d3a88cf8bcd"
      }
     },
     "metadata": {}
    },
    {
     "output_type": "display_data",
     "data": {
      "text/plain": "Batches:   0%|          | 0/1 [00:00<?, ?it/s]",
      "application/vnd.jupyter.widget-view+json": {
       "version_major": 2,
       "version_minor": 0,
       "model_id": "6bce5d7d4b1f474496583149fafa449e"
      }
     },
     "metadata": {}
    },
    {
     "name": "stderr",
     "text": " 95%|█████████▌| 95/100 [00:27<00:01,  4.02it/s]",
     "output_type": "stream"
    },
    {
     "output_type": "display_data",
     "data": {
      "text/plain": "Batches:   0%|          | 0/1 [00:00<?, ?it/s]",
      "application/vnd.jupyter.widget-view+json": {
       "version_major": 2,
       "version_minor": 0,
       "model_id": "fe27c052adad4a909aecddb8051ad9d3"
      }
     },
     "metadata": {}
    },
    {
     "output_type": "display_data",
     "data": {
      "text/plain": "Batches:   0%|          | 0/1 [00:00<?, ?it/s]",
      "application/vnd.jupyter.widget-view+json": {
       "version_major": 2,
       "version_minor": 0,
       "model_id": "afcd55782ce040e2ab84930c061b3490"
      }
     },
     "metadata": {}
    },
    {
     "name": "stderr",
     "text": " 96%|█████████▌| 96/100 [00:27<00:01,  3.96it/s]",
     "output_type": "stream"
    },
    {
     "output_type": "display_data",
     "data": {
      "text/plain": "Batches:   0%|          | 0/1 [00:00<?, ?it/s]",
      "application/vnd.jupyter.widget-view+json": {
       "version_major": 2,
       "version_minor": 0,
       "model_id": "0deea2c6eec84c11a3667d285931f756"
      }
     },
     "metadata": {}
    },
    {
     "output_type": "display_data",
     "data": {
      "text/plain": "Batches:   0%|          | 0/1 [00:00<?, ?it/s]",
      "application/vnd.jupyter.widget-view+json": {
       "version_major": 2,
       "version_minor": 0,
       "model_id": "b71dfe8b16c2442389871c7a16da8bb9"
      }
     },
     "metadata": {}
    },
    {
     "name": "stderr",
     "text": " 97%|█████████▋| 97/100 [00:27<00:00,  4.10it/s]",
     "output_type": "stream"
    },
    {
     "output_type": "display_data",
     "data": {
      "text/plain": "Batches:   0%|          | 0/1 [00:00<?, ?it/s]",
      "application/vnd.jupyter.widget-view+json": {
       "version_major": 2,
       "version_minor": 0,
       "model_id": "93ec6c64c111466c99ab2847c41b0e12"
      }
     },
     "metadata": {}
    },
    {
     "output_type": "display_data",
     "data": {
      "text/plain": "Batches:   0%|          | 0/1 [00:00<?, ?it/s]",
      "application/vnd.jupyter.widget-view+json": {
       "version_major": 2,
       "version_minor": 0,
       "model_id": "0f23122785f7409f9e4bff76ea20b4d2"
      }
     },
     "metadata": {}
    },
    {
     "name": "stderr",
     "text": " 98%|█████████▊| 98/100 [00:27<00:00,  4.21it/s]",
     "output_type": "stream"
    },
    {
     "output_type": "display_data",
     "data": {
      "text/plain": "Batches:   0%|          | 0/1 [00:00<?, ?it/s]",
      "application/vnd.jupyter.widget-view+json": {
       "version_major": 2,
       "version_minor": 0,
       "model_id": "1873c5a79d05467dbe5acc2f594f3d8a"
      }
     },
     "metadata": {}
    },
    {
     "output_type": "display_data",
     "data": {
      "text/plain": "Batches:   0%|          | 0/1 [00:00<?, ?it/s]",
      "application/vnd.jupyter.widget-view+json": {
       "version_major": 2,
       "version_minor": 0,
       "model_id": "7e7d358914044294af4437bdd5a2cd87"
      }
     },
     "metadata": {}
    },
    {
     "name": "stderr",
     "text": " 99%|█████████▉| 99/100 [00:28<00:00,  4.19it/s]",
     "output_type": "stream"
    },
    {
     "output_type": "display_data",
     "data": {
      "text/plain": "Batches:   0%|          | 0/1 [00:00<?, ?it/s]",
      "application/vnd.jupyter.widget-view+json": {
       "version_major": 2,
       "version_minor": 0,
       "model_id": "fdd6dce07a294a09a6585966768aba5a"
      }
     },
     "metadata": {}
    },
    {
     "output_type": "display_data",
     "data": {
      "text/plain": "Batches:   0%|          | 0/1 [00:00<?, ?it/s]",
      "application/vnd.jupyter.widget-view+json": {
       "version_major": 2,
       "version_minor": 0,
       "model_id": "3f12ac733e6e4931aacd6a6f9ce9c76a"
      }
     },
     "metadata": {}
    },
    {
     "name": "stderr",
     "text": "100%|██████████| 100/100 [00:28<00:00,  3.52it/s]",
     "output_type": "stream"
    },
    {
     "name": "stdout",
     "text": "我们坚定践行网络强国、数字中国、智慧社会战略部署，今天的中国联通，正在从传统运营商加速向数字科技领军企业转变，实现了四个维度的转型升级：一是联接规模和联接结构升维，从过去的连接人为主拓展到连接人机物，大力发展物联网和工业互联网；二是核心功能升维，从以基础连接为主发展到大联接、大计算、大数据、大应用、大安全五大主责主业；三是服务和赋能水平升维，以5G、云计算、大数据、人工智能、区块链为代表的新一代信息技术和实体经济的结合，服务数字政府、数字社会、数字经济的能力不断增强；四是发展理念升维，\n",
     "output_type": "stream"
    },
    {
     "name": "stderr",
     "text": "\n",
     "output_type": "stream"
    }
   ]
  },
  {
   "cell_type": "markdown",
   "source": "### 提交",
   "metadata": {}
  },
  {
   "cell_type": "markdown",
   "source": "### Embedding",
   "metadata": {}
  },
  {
   "cell_type": "code",
   "source": "def emb(answers, emb_batch_size = 4):\n    model = SentenceTransformer(EMB_MODEL, trust_remote_code=True)\n    all_sentence_embeddings = []\n    for i in tqdm(range(0, len(answers), emb_batch_size), desc=\"embedding sentences\"):\n        batch_sentences = answers[i:i+emb_batch_size]\n        sentence_embeddings = model.encode(batch_sentences, normalize_embeddings=True)\n        all_sentence_embeddings.append(sentence_embeddings)\n    all_sentence_embeddings = np.concatenate(all_sentence_embeddings, axis=0)\n    print('emb_model max_seq_length: ', model.max_seq_length)\n    print('emb_model embeddings_shape: ', all_sentence_embeddings.shape[-1])\n    del model\n    gc.collect()\n    torch.cuda.empty_cache()\n    return all_sentence_embeddings\n\nall_sentence_embeddings = emb(rerank_answers)\n",
   "metadata": {
    "execution": {
     "iopub.status.busy": "2024-10-11T14:07:38.233935Z",
     "iopub.execute_input": "2024-10-11T14:07:38.234799Z",
     "iopub.status.idle": "2024-10-11T14:07:43.859797Z",
     "shell.execute_reply.started": "2024-10-11T14:07:38.234755Z",
     "shell.execute_reply": "2024-10-11T14:07:43.858810Z"
    },
    "trusted": true
   },
   "execution_count": 138,
   "outputs": [
    {
     "name": "stderr",
     "text": "embedding sentences:   0%|          | 0/25 [00:00<?, ?it/s]",
     "output_type": "stream"
    },
    {
     "output_type": "display_data",
     "data": {
      "text/plain": "Batches:   0%|          | 0/1 [00:00<?, ?it/s]",
      "application/vnd.jupyter.widget-view+json": {
       "version_major": 2,
       "version_minor": 0,
       "model_id": "98e0c9db5aff417da2143603790c4b7e"
      }
     },
     "metadata": {}
    },
    {
     "name": "stderr",
     "text": "embedding sentences:   4%|▍         | 1/25 [00:00<00:03,  6.86it/s]",
     "output_type": "stream"
    },
    {
     "output_type": "display_data",
     "data": {
      "text/plain": "Batches:   0%|          | 0/1 [00:00<?, ?it/s]",
      "application/vnd.jupyter.widget-view+json": {
       "version_major": 2,
       "version_minor": 0,
       "model_id": "d4695a2adad24f48a5434b52fceee7b4"
      }
     },
     "metadata": {}
    },
    {
     "name": "stderr",
     "text": "embedding sentences:   8%|▊         | 2/25 [00:00<00:03,  7.17it/s]",
     "output_type": "stream"
    },
    {
     "output_type": "display_data",
     "data": {
      "text/plain": "Batches:   0%|          | 0/1 [00:00<?, ?it/s]",
      "application/vnd.jupyter.widget-view+json": {
       "version_major": 2,
       "version_minor": 0,
       "model_id": "638b458aafe54229b8f2fdec86cf2e3b"
      }
     },
     "metadata": {}
    },
    {
     "name": "stderr",
     "text": "embedding sentences:  12%|█▏        | 3/25 [00:00<00:03,  7.29it/s]",
     "output_type": "stream"
    },
    {
     "output_type": "display_data",
     "data": {
      "text/plain": "Batches:   0%|          | 0/1 [00:00<?, ?it/s]",
      "application/vnd.jupyter.widget-view+json": {
       "version_major": 2,
       "version_minor": 0,
       "model_id": "a82c17c53b0747f280667075bdc0c42d"
      }
     },
     "metadata": {}
    },
    {
     "name": "stderr",
     "text": "embedding sentences:  16%|█▌        | 4/25 [00:00<00:02,  7.67it/s]",
     "output_type": "stream"
    },
    {
     "output_type": "display_data",
     "data": {
      "text/plain": "Batches:   0%|          | 0/1 [00:00<?, ?it/s]",
      "application/vnd.jupyter.widget-view+json": {
       "version_major": 2,
       "version_minor": 0,
       "model_id": "cea15211a9bf41798ca2176cdb0a0fdf"
      }
     },
     "metadata": {}
    },
    {
     "name": "stderr",
     "text": "embedding sentences:  20%|██        | 5/25 [00:00<00:02,  7.59it/s]",
     "output_type": "stream"
    },
    {
     "output_type": "display_data",
     "data": {
      "text/plain": "Batches:   0%|          | 0/1 [00:00<?, ?it/s]",
      "application/vnd.jupyter.widget-view+json": {
       "version_major": 2,
       "version_minor": 0,
       "model_id": "62f4c2943f43442ba6cdf989b7ed8926"
      }
     },
     "metadata": {}
    },
    {
     "name": "stderr",
     "text": "embedding sentences:  24%|██▍       | 6/25 [00:00<00:02,  7.59it/s]",
     "output_type": "stream"
    },
    {
     "output_type": "display_data",
     "data": {
      "text/plain": "Batches:   0%|          | 0/1 [00:00<?, ?it/s]",
      "application/vnd.jupyter.widget-view+json": {
       "version_major": 2,
       "version_minor": 0,
       "model_id": "9e64cebd0601451c9f467fda522d53a4"
      }
     },
     "metadata": {}
    },
    {
     "name": "stderr",
     "text": "embedding sentences:  28%|██▊       | 7/25 [00:00<00:02,  7.56it/s]",
     "output_type": "stream"
    },
    {
     "output_type": "display_data",
     "data": {
      "text/plain": "Batches:   0%|          | 0/1 [00:00<?, ?it/s]",
      "application/vnd.jupyter.widget-view+json": {
       "version_major": 2,
       "version_minor": 0,
       "model_id": "1e3af89517004202a5c56ad42a9f177c"
      }
     },
     "metadata": {}
    },
    {
     "name": "stderr",
     "text": "embedding sentences:  32%|███▏      | 8/25 [00:01<00:02,  7.55it/s]",
     "output_type": "stream"
    },
    {
     "output_type": "display_data",
     "data": {
      "text/plain": "Batches:   0%|          | 0/1 [00:00<?, ?it/s]",
      "application/vnd.jupyter.widget-view+json": {
       "version_major": 2,
       "version_minor": 0,
       "model_id": "0d0951530c1042589c2764cc720e0b95"
      }
     },
     "metadata": {}
    },
    {
     "name": "stderr",
     "text": "embedding sentences:  36%|███▌      | 9/25 [00:01<00:02,  7.79it/s]",
     "output_type": "stream"
    },
    {
     "output_type": "display_data",
     "data": {
      "text/plain": "Batches:   0%|          | 0/1 [00:00<?, ?it/s]",
      "application/vnd.jupyter.widget-view+json": {
       "version_major": 2,
       "version_minor": 0,
       "model_id": "af44da2787db41a0bb10de39807808a1"
      }
     },
     "metadata": {}
    },
    {
     "name": "stderr",
     "text": "embedding sentences:  40%|████      | 10/25 [00:01<00:01,  7.59it/s]",
     "output_type": "stream"
    },
    {
     "output_type": "display_data",
     "data": {
      "text/plain": "Batches:   0%|          | 0/1 [00:00<?, ?it/s]",
      "application/vnd.jupyter.widget-view+json": {
       "version_major": 2,
       "version_minor": 0,
       "model_id": "aa69367f93e9443cb4883c5bff333fb3"
      }
     },
     "metadata": {}
    },
    {
     "name": "stderr",
     "text": "embedding sentences:  44%|████▍     | 11/25 [00:01<00:01,  7.40it/s]",
     "output_type": "stream"
    },
    {
     "output_type": "display_data",
     "data": {
      "text/plain": "Batches:   0%|          | 0/1 [00:00<?, ?it/s]",
      "application/vnd.jupyter.widget-view+json": {
       "version_major": 2,
       "version_minor": 0,
       "model_id": "dbf0622efd9e4dc49a9069db1e35f194"
      }
     },
     "metadata": {}
    },
    {
     "name": "stderr",
     "text": "embedding sentences:  48%|████▊     | 12/25 [00:01<00:01,  7.46it/s]",
     "output_type": "stream"
    },
    {
     "output_type": "display_data",
     "data": {
      "text/plain": "Batches:   0%|          | 0/1 [00:00<?, ?it/s]",
      "application/vnd.jupyter.widget-view+json": {
       "version_major": 2,
       "version_minor": 0,
       "model_id": "cfe9ba40e79e42f0824a7255e32507f3"
      }
     },
     "metadata": {}
    },
    {
     "name": "stderr",
     "text": "embedding sentences:  52%|█████▏    | 13/25 [00:01<00:01,  7.46it/s]",
     "output_type": "stream"
    },
    {
     "output_type": "display_data",
     "data": {
      "text/plain": "Batches:   0%|          | 0/1 [00:00<?, ?it/s]",
      "application/vnd.jupyter.widget-view+json": {
       "version_major": 2,
       "version_minor": 0,
       "model_id": "24d2fd997e14435a9c9e5ea7e096af6a"
      }
     },
     "metadata": {}
    },
    {
     "name": "stderr",
     "text": "embedding sentences:  56%|█████▌    | 14/25 [00:01<00:01,  7.39it/s]",
     "output_type": "stream"
    },
    {
     "output_type": "display_data",
     "data": {
      "text/plain": "Batches:   0%|          | 0/1 [00:00<?, ?it/s]",
      "application/vnd.jupyter.widget-view+json": {
       "version_major": 2,
       "version_minor": 0,
       "model_id": "7e88107100124acfa5cdee8c0c28304e"
      }
     },
     "metadata": {}
    },
    {
     "name": "stderr",
     "text": "embedding sentences:  60%|██████    | 15/25 [00:02<00:01,  7.40it/s]",
     "output_type": "stream"
    },
    {
     "output_type": "display_data",
     "data": {
      "text/plain": "Batches:   0%|          | 0/1 [00:00<?, ?it/s]",
      "application/vnd.jupyter.widget-view+json": {
       "version_major": 2,
       "version_minor": 0,
       "model_id": "1c27eb5509da487b8950459cfed54814"
      }
     },
     "metadata": {}
    },
    {
     "name": "stderr",
     "text": "embedding sentences:  64%|██████▍   | 16/25 [00:02<00:01,  7.45it/s]",
     "output_type": "stream"
    },
    {
     "output_type": "display_data",
     "data": {
      "text/plain": "Batches:   0%|          | 0/1 [00:00<?, ?it/s]",
      "application/vnd.jupyter.widget-view+json": {
       "version_major": 2,
       "version_minor": 0,
       "model_id": "d0532044cfdf46959da2079f06639932"
      }
     },
     "metadata": {}
    },
    {
     "name": "stderr",
     "text": "embedding sentences:  68%|██████▊   | 17/25 [00:02<00:01,  7.40it/s]",
     "output_type": "stream"
    },
    {
     "output_type": "display_data",
     "data": {
      "text/plain": "Batches:   0%|          | 0/1 [00:00<?, ?it/s]",
      "application/vnd.jupyter.widget-view+json": {
       "version_major": 2,
       "version_minor": 0,
       "model_id": "f4e445b078104fe78930a848b0bf102b"
      }
     },
     "metadata": {}
    },
    {
     "name": "stderr",
     "text": "embedding sentences:  72%|███████▏  | 18/25 [00:02<00:00,  7.59it/s]",
     "output_type": "stream"
    },
    {
     "output_type": "display_data",
     "data": {
      "text/plain": "Batches:   0%|          | 0/1 [00:00<?, ?it/s]",
      "application/vnd.jupyter.widget-view+json": {
       "version_major": 2,
       "version_minor": 0,
       "model_id": "b202ab0609554c5da8bb806463403d91"
      }
     },
     "metadata": {}
    },
    {
     "name": "stderr",
     "text": "embedding sentences:  76%|███████▌  | 19/25 [00:02<00:00,  7.46it/s]",
     "output_type": "stream"
    },
    {
     "output_type": "display_data",
     "data": {
      "text/plain": "Batches:   0%|          | 0/1 [00:00<?, ?it/s]",
      "application/vnd.jupyter.widget-view+json": {
       "version_major": 2,
       "version_minor": 0,
       "model_id": "ca90465ff49a4bd69e753d0083807e3d"
      }
     },
     "metadata": {}
    },
    {
     "name": "stderr",
     "text": "embedding sentences:  80%|████████  | 20/25 [00:02<00:00,  7.46it/s]",
     "output_type": "stream"
    },
    {
     "output_type": "display_data",
     "data": {
      "text/plain": "Batches:   0%|          | 0/1 [00:00<?, ?it/s]",
      "application/vnd.jupyter.widget-view+json": {
       "version_major": 2,
       "version_minor": 0,
       "model_id": "d25f04330da44043a5aef5ab0c544aca"
      }
     },
     "metadata": {}
    },
    {
     "name": "stderr",
     "text": "embedding sentences:  84%|████████▍ | 21/25 [00:02<00:00,  7.73it/s]",
     "output_type": "stream"
    },
    {
     "output_type": "display_data",
     "data": {
      "text/plain": "Batches:   0%|          | 0/1 [00:00<?, ?it/s]",
      "application/vnd.jupyter.widget-view+json": {
       "version_major": 2,
       "version_minor": 0,
       "model_id": "8cf6e246e22d466ca600d2d30d605446"
      }
     },
     "metadata": {}
    },
    {
     "name": "stderr",
     "text": "embedding sentences:  88%|████████▊ | 22/25 [00:02<00:00,  7.68it/s]",
     "output_type": "stream"
    },
    {
     "output_type": "display_data",
     "data": {
      "text/plain": "Batches:   0%|          | 0/1 [00:00<?, ?it/s]",
      "application/vnd.jupyter.widget-view+json": {
       "version_major": 2,
       "version_minor": 0,
       "model_id": "1c39c011c0a64c3d98c246396f56eb50"
      }
     },
     "metadata": {}
    },
    {
     "name": "stderr",
     "text": "embedding sentences:  92%|█████████▏| 23/25 [00:03<00:00,  7.57it/s]",
     "output_type": "stream"
    },
    {
     "output_type": "display_data",
     "data": {
      "text/plain": "Batches:   0%|          | 0/1 [00:00<?, ?it/s]",
      "application/vnd.jupyter.widget-view+json": {
       "version_major": 2,
       "version_minor": 0,
       "model_id": "7a2ead658b8042bf9c135e2d760792c4"
      }
     },
     "metadata": {}
    },
    {
     "name": "stderr",
     "text": "embedding sentences:  96%|█████████▌| 24/25 [00:03<00:00,  7.49it/s]",
     "output_type": "stream"
    },
    {
     "output_type": "display_data",
     "data": {
      "text/plain": "Batches:   0%|          | 0/1 [00:00<?, ?it/s]",
      "application/vnd.jupyter.widget-view+json": {
       "version_major": 2,
       "version_minor": 0,
       "model_id": "6436cdf1a87d4f36bc247aeb61327f72"
      }
     },
     "metadata": {}
    },
    {
     "name": "stderr",
     "text": "embedding sentences: 100%|██████████| 25/25 [00:03<00:00,  7.50it/s]\n",
     "output_type": "stream"
    },
    {
     "name": "stdout",
     "text": "emb_model max_seq_length:  512\nemb_model embeddings_shape:  1024\n",
     "output_type": "stream"
    }
   ]
  },
  {
   "cell_type": "code",
   "source": "sub['answer'] = rerank_answers\nsub['embedding']= [','.join([str(a) for a in all_sentence_embeddings[i]]) for i in range(len(all_sentence_embeddings))]\nsub.to_csv('submit.csv', index=None)\nsub.head()",
   "metadata": {
    "execution": {
     "iopub.status.busy": "2024-10-11T14:08:20.072987Z",
     "iopub.execute_input": "2024-10-11T14:08:20.073948Z",
     "iopub.status.idle": "2024-10-11T14:08:20.230197Z",
     "shell.execute_reply.started": "2024-10-11T14:08:20.073903Z",
     "shell.execute_reply": "2024-10-11T14:08:20.229186Z"
    },
    "trusted": true
   },
   "execution_count": 139,
   "outputs": [
    {
     "execution_count": 139,
     "output_type": "execute_result",
     "data": {
      "text/plain": "   ques_id                                       question  \\\n0        1  根据年度报告，2022年中国联通在向数字科技领军企业转变的过程中实现了哪些维度的转型升级？   \n1        2                      告诉我2022年联通产业互联网收入的同比增长速度。   \n2        3                       根据2022年度报告，中国联通的企业定位是什么？   \n3        4                 2022年联通在“大联接”和“大数据”业务上取得了什么成果？   \n4        5                      2022年上半年，联通在精品网络建设上有什么成果？   \n\n                                              answer  \\\n0  我们坚定践行网络强国、数字中国、智慧社会战略部署，今天的中国联通，正在从传统运营商加速向数字...   \n1  （三）拥抱创新，释放全新增长空间在确保稳定发展的基础之上，我们持续从深层次、多领域推进创新转...   \n2  中国联合网络通信股份有限公司董事会2022年10月28日中国联合网络通信股份有限公司2022...   \n3  大联接价值生长，物联网连接数达到3.9亿，5G连接新增市场份额接近七成，在行业内率先实现了“...   \n4  宽带接入用户净增440万户，总数达到9,944万户，净增用户数创近10年同期新高，融合渗透率...   \n\n                                           embedding  \n0  -0.02915269,-0.01014763,-0.0077438867,0.000523...  \n1  -0.035577897,-0.009453791,-0.00882352,0.023341...  \n2  -0.039146192,-0.019243449,-0.06454016,-0.01716...  \n3  -0.015162287,-0.0038760921,-0.023473838,0.0059...  \n4  -0.018238463,-0.02485805,-0.05196214,0.0085318...  ",
      "text/html": "<div>\n<style scoped>\n    .dataframe tbody tr th:only-of-type {\n        vertical-align: middle;\n    }\n\n    .dataframe tbody tr th {\n        vertical-align: top;\n    }\n\n    .dataframe thead th {\n        text-align: right;\n    }\n</style>\n<table border=\"1\" class=\"dataframe\">\n  <thead>\n    <tr style=\"text-align: right;\">\n      <th></th>\n      <th>ques_id</th>\n      <th>question</th>\n      <th>answer</th>\n      <th>embedding</th>\n    </tr>\n  </thead>\n  <tbody>\n    <tr>\n      <th>0</th>\n      <td>1</td>\n      <td>根据年度报告，2022年中国联通在向数字科技领军企业转变的过程中实现了哪些维度的转型升级？</td>\n      <td>我们坚定践行网络强国、数字中国、智慧社会战略部署，今天的中国联通，正在从传统运营商加速向数字...</td>\n      <td>-0.02915269,-0.01014763,-0.0077438867,0.000523...</td>\n    </tr>\n    <tr>\n      <th>1</th>\n      <td>2</td>\n      <td>告诉我2022年联通产业互联网收入的同比增长速度。</td>\n      <td>（三）拥抱创新，释放全新增长空间在确保稳定发展的基础之上，我们持续从深层次、多领域推进创新转...</td>\n      <td>-0.035577897,-0.009453791,-0.00882352,0.023341...</td>\n    </tr>\n    <tr>\n      <th>2</th>\n      <td>3</td>\n      <td>根据2022年度报告，中国联通的企业定位是什么？</td>\n      <td>中国联合网络通信股份有限公司董事会2022年10月28日中国联合网络通信股份有限公司2022...</td>\n      <td>-0.039146192,-0.019243449,-0.06454016,-0.01716...</td>\n    </tr>\n    <tr>\n      <th>3</th>\n      <td>4</td>\n      <td>2022年联通在“大联接”和“大数据”业务上取得了什么成果？</td>\n      <td>大联接价值生长，物联网连接数达到3.9亿，5G连接新增市场份额接近七成，在行业内率先实现了“...</td>\n      <td>-0.015162287,-0.0038760921,-0.023473838,0.0059...</td>\n    </tr>\n    <tr>\n      <th>4</th>\n      <td>5</td>\n      <td>2022年上半年，联通在精品网络建设上有什么成果？</td>\n      <td>宽带接入用户净增440万户，总数达到9,944万户，净增用户数创近10年同期新高，融合渗透率...</td>\n      <td>-0.018238463,-0.02485805,-0.05196214,0.0085318...</td>\n    </tr>\n  </tbody>\n</table>\n</div>"
     },
     "metadata": {}
    }
   ]
  }
 ]
}
